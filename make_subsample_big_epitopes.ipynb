{
 "cells": [
  {
   "cell_type": "code",
   "execution_count": 1,
   "metadata": {},
   "outputs": [],
   "source": [
    "import pandas as pd"
   ]
  },
  {
   "cell_type": "code",
   "execution_count": 2,
   "metadata": {},
   "outputs": [],
   "source": [
    "vdjdb = pd.read_csv('data/vdj_cleaned_subset_for_MI.csv', index_col=0)"
   ]
  },
  {
   "cell_type": "code",
   "execution_count": 3,
   "metadata": {},
   "outputs": [],
   "source": [
    "large_eps = vdjdb['Epitope'].value_counts().loc[vdjdb['Epitope'].value_counts() > 1000].index.tolist()"
   ]
  },
  {
   "cell_type": "code",
   "execution_count": 4,
   "metadata": {},
   "outputs": [
    {
     "data": {
      "text/plain": [
       "['KLGGALQAK', 'GILGFVFTL', 'AVFDRKSDAK', 'RAKFKQLL']"
      ]
     },
     "execution_count": 4,
     "metadata": {},
     "output_type": "execute_result"
    }
   ],
   "source": [
    "large_eps"
   ]
  },
  {
   "cell_type": "code",
   "execution_count": 5,
   "metadata": {},
   "outputs": [],
   "source": [
    "# for epitope in large_eps:\n",
    "#     epdf = vdjdb.loc[vdjdb['Epitope'] == epitope]\n",
    "#     for i in range(10):\n",
    "#         X = epdf.sample(1000)\n",
    "#         X.to_csv('data/big_epitopes_subsamples/' + epitope + '_ss' + str(i) + '.csv')"
   ]
  },
  {
   "cell_type": "code",
   "execution_count": 6,
   "metadata": {},
   "outputs": [],
   "source": [
    "for epitope in large_eps:\n",
    "    if epitope != 'KLGGALQAK':\n",
    "        epdf = vdjdb.loc[vdjdb['Epitope'] == epitope]\n",
    "        for i in range(10):\n",
    "            X = epdf.sample(700)\n",
    "            X.to_csv('data/big_epitopes_subsamples_700/' + epitope + '_ss' + str(i) + '.csv')"
   ]
  }
 ],
 "metadata": {
  "kernelspec": {
   "display_name": "MutualInformation",
   "language": "python",
   "name": "python3"
  },
  "language_info": {
   "codemirror_mode": {
    "name": "ipython",
    "version": 3
   },
   "file_extension": ".py",
   "mimetype": "text/x-python",
   "name": "python",
   "nbconvert_exporter": "python",
   "pygments_lexer": "ipython3",
   "version": "3.11.0"
  }
 },
 "nbformat": 4,
 "nbformat_minor": 2
}
