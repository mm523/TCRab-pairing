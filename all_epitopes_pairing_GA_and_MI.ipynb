{
 "cells": [
  {
   "cell_type": "code",
   "execution_count": 1,
   "metadata": {},
   "outputs": [],
   "source": [
    "import pandas as pd\n",
    "import os\n",
    "import numpy as np\n",
    "import seaborn as sns\n",
    "import matplotlib.pyplot as plt\n",
    "from scipy.stats import ttest_ind\n",
    "import functions.helperfunctions as hf\n",
    "from PairingVDJdb_MI import _define_individuals\n",
    "import functions.myfunctions as mf\n",
    "pd.options.mode.chained_assignment = None  # default='warn'"
   ]
  },
  {
   "cell_type": "code",
   "execution_count": 2,
   "metadata": {},
   "outputs": [],
   "source": [
    "vdj = pd.read_csv('data/vdj_cleaned_subset_for_MI.csv', index_col=0).drop('Unnamed: 0', axis=1)\n",
    "vdj = vdj.replace('https://www.10xgenomics.com/resources/application-notes/a-new-way-of-exploring-immunity-linking-highly-multiplexed-antigen-recognition-to-immune-repertoire-and-phenotype/#', '10xGenomics')\n",
    "vdj = vdj.replace('https://github.com/antigenomics/vdjdb-db/issues/*', 'GitHubIssue', regex=True)\n",
    "vdj = vdj.loc[vdj['Epitope'] != 'KLGGALQAK'] # because too big - takes forever\n",
    "# epcounts = vdj['Epitope'].value_counts()\n",
    "# epitopes = epcounts.loc[epcounts<1000].index.values\n",
    "# vdj = vdj.loc[vdj['Epitope'].isin(epitopes)]"
   ]
  },
  {
   "cell_type": "code",
   "execution_count": 3,
   "metadata": {},
   "outputs": [],
   "source": [
    "ff0 = 'data/output/pairing_GA/all_eps/'\n",
    "ff1 = 'data/output/pairing_GA/big_eps_700/'"
   ]
  },
  {
   "cell_type": "code",
   "execution_count": 4,
   "metadata": {},
   "outputs": [],
   "source": [
    "chosenDist = 'lev'"
   ]
  },
  {
   "cell_type": "code",
   "execution_count": 5,
   "metadata": {},
   "outputs": [
    {
     "name": "stdout",
     "output_type": "stream",
     "text": [
      "GA-epitope-ASNENMETM_ind-no_vgene-no_distance_type-lev_kNN-20_n_repeats-100.csv.gz\n",
      "epitope-ASNENMETM_ind-no_vgene-no_distanceType-lev_kNN-20_nrepeats-100.csv.gz\n"
     ]
    },
    {
     "name": "stderr",
     "output_type": "stream",
     "text": [
      "/tmp/ipykernel_176188/658929616.py:17: FutureWarning: The default dtype for empty Series will be 'object' instead of 'float64' in a future version. Specify a dtype explicitly to silence this warning.\n",
      "  R_recall = pd.Series()\n"
     ]
    },
    {
     "name": "stdout",
     "output_type": "stream",
     "text": [
      "GA-epitope-ATDALMTGF_ind-no_vgene-no_distance_type-lev_kNN-20_n_repeats-100.csv.gz\n",
      "epitope-ATDALMTGF_ind-no_vgene-no_distanceType-lev_kNN-20_nrepeats-100.csv.gz\n"
     ]
    },
    {
     "name": "stderr",
     "output_type": "stream",
     "text": [
      "/tmp/ipykernel_176188/658929616.py:17: FutureWarning: The default dtype for empty Series will be 'object' instead of 'float64' in a future version. Specify a dtype explicitly to silence this warning.\n",
      "  R_recall = pd.Series()\n"
     ]
    },
    {
     "name": "stdout",
     "output_type": "stream",
     "text": [
      "GA-epitope-CINGVCWTV_ind-no_vgene-no_distance_type-lev_kNN-20_n_repeats-100.csv.gz\n",
      "epitope-CINGVCWTV_ind-no_vgene-no_distanceType-lev_kNN-20_nrepeats-100.csv.gz\n"
     ]
    },
    {
     "name": "stderr",
     "output_type": "stream",
     "text": [
      "/tmp/ipykernel_176188/658929616.py:17: FutureWarning: The default dtype for empty Series will be 'object' instead of 'float64' in a future version. Specify a dtype explicitly to silence this warning.\n",
      "  R_recall = pd.Series()\n"
     ]
    },
    {
     "name": "stdout",
     "output_type": "stream",
     "text": [
      "GA-epitope-ELAGIGILTV_ind-no_vgene-no_distance_type-lev_kNN-20_n_repeats-100.csv.gz\n",
      "epitope-ELAGIGILTV_ind-no_vgene-no_distanceType-lev_kNN-20_nrepeats-100.csv.gz\n"
     ]
    },
    {
     "name": "stderr",
     "output_type": "stream",
     "text": [
      "/tmp/ipykernel_176188/658929616.py:17: FutureWarning: The default dtype for empty Series will be 'object' instead of 'float64' in a future version. Specify a dtype explicitly to silence this warning.\n",
      "  R_recall = pd.Series()\n"
     ]
    },
    {
     "name": "stdout",
     "output_type": "stream",
     "text": [
      "GA-epitope-GLCTLVAML_ind-no_vgene-no_distance_type-lev_kNN-20_n_repeats-100.csv.gz\n",
      "epitope-GLCTLVAML_ind-no_vgene-no_distanceType-lev_kNN-20_nrepeats-100.csv.gz\n"
     ]
    },
    {
     "name": "stderr",
     "output_type": "stream",
     "text": [
      "/tmp/ipykernel_176188/658929616.py:17: FutureWarning: The default dtype for empty Series will be 'object' instead of 'float64' in a future version. Specify a dtype explicitly to silence this warning.\n",
      "  R_recall = pd.Series()\n"
     ]
    },
    {
     "name": "stdout",
     "output_type": "stream",
     "text": [
      "GA-epitope-HGIRNASFI_ind-no_vgene-no_distance_type-lev_kNN-20_n_repeats-100.csv.gz\n",
      "epitope-HGIRNASFI_ind-no_vgene-no_distanceType-lev_kNN-20_nrepeats-100.csv.gz\n"
     ]
    },
    {
     "name": "stderr",
     "output_type": "stream",
     "text": [
      "/tmp/ipykernel_176188/658929616.py:17: FutureWarning: The default dtype for empty Series will be 'object' instead of 'float64' in a future version. Specify a dtype explicitly to silence this warning.\n",
      "  R_recall = pd.Series()\n"
     ]
    },
    {
     "name": "stdout",
     "output_type": "stream",
     "text": [
      "GA-epitope-IVTDFSVIK_ind-no_vgene-no_distance_type-lev_kNN-20_n_repeats-100.csv.gz\n",
      "epitope-IVTDFSVIK_ind-no_vgene-no_distanceType-lev_kNN-20_nrepeats-100.csv.gz\n"
     ]
    },
    {
     "name": "stderr",
     "output_type": "stream",
     "text": [
      "/tmp/ipykernel_176188/658929616.py:17: FutureWarning: The default dtype for empty Series will be 'object' instead of 'float64' in a future version. Specify a dtype explicitly to silence this warning.\n",
      "  R_recall = pd.Series()\n"
     ]
    },
    {
     "name": "stdout",
     "output_type": "stream",
     "text": [
      "GA-epitope-KSKRTPMGF_ind-no_vgene-no_distance_type-lev_kNN-20_n_repeats-100.csv.gz\n",
      "epitope-KSKRTPMGF_ind-no_vgene-no_distanceType-lev_kNN-20_nrepeats-100.csv.gz\n"
     ]
    },
    {
     "name": "stderr",
     "output_type": "stream",
     "text": [
      "/tmp/ipykernel_176188/658929616.py:17: FutureWarning: The default dtype for empty Series will be 'object' instead of 'float64' in a future version. Specify a dtype explicitly to silence this warning.\n",
      "  R_recall = pd.Series()\n"
     ]
    },
    {
     "name": "stdout",
     "output_type": "stream",
     "text": [
      "GA-epitope-LLWNGPMAV_ind-no_vgene-no_distance_type-lev_kNN-20_n_repeats-100.csv.gz\n",
      "epitope-LLWNGPMAV_ind-no_vgene-no_distanceType-lev_kNN-20_nrepeats-100.csv.gz\n"
     ]
    },
    {
     "name": "stderr",
     "output_type": "stream",
     "text": [
      "/tmp/ipykernel_176188/658929616.py:17: FutureWarning: The default dtype for empty Series will be 'object' instead of 'float64' in a future version. Specify a dtype explicitly to silence this warning.\n",
      "  R_recall = pd.Series()\n"
     ]
    },
    {
     "name": "stdout",
     "output_type": "stream",
     "text": [
      "GA-epitope-LSLRNPILV_ind-no_vgene-no_distance_type-lev_kNN-20_n_repeats-100.csv.gz\n",
      "epitope-LSLRNPILV_ind-no_vgene-no_distanceType-lev_kNN-20_nrepeats-100.csv.gz\n"
     ]
    },
    {
     "name": "stderr",
     "output_type": "stream",
     "text": [
      "/tmp/ipykernel_176188/658929616.py:17: FutureWarning: The default dtype for empty Series will be 'object' instead of 'float64' in a future version. Specify a dtype explicitly to silence this warning.\n",
      "  R_recall = pd.Series()\n"
     ]
    },
    {
     "name": "stdout",
     "output_type": "stream",
     "text": [
      "GA-epitope-LTDEMIAQY_ind-no_vgene-no_distance_type-lev_kNN-20_n_repeats-100.csv.gz\n",
      "epitope-LTDEMIAQY_ind-no_vgene-no_distanceType-lev_kNN-20_nrepeats-100.csv.gz\n"
     ]
    },
    {
     "name": "stderr",
     "output_type": "stream",
     "text": [
      "/tmp/ipykernel_176188/658929616.py:17: FutureWarning: The default dtype for empty Series will be 'object' instead of 'float64' in a future version. Specify a dtype explicitly to silence this warning.\n",
      "  R_recall = pd.Series()\n"
     ]
    },
    {
     "name": "stdout",
     "output_type": "stream",
     "text": [
      "GA-epitope-NLVPMVATV_ind-no_vgene-no_distance_type-lev_kNN-20_n_repeats-100.csv.gz\n",
      "epitope-NLVPMVATV_ind-no_vgene-no_distanceType-lev_kNN-20_nrepeats-100.csv.gz\n"
     ]
    },
    {
     "name": "stderr",
     "output_type": "stream",
     "text": [
      "/tmp/ipykernel_176188/658929616.py:17: FutureWarning: The default dtype for empty Series will be 'object' instead of 'float64' in a future version. Specify a dtype explicitly to silence this warning.\n",
      "  R_recall = pd.Series()\n"
     ]
    },
    {
     "name": "stdout",
     "output_type": "stream",
     "text": [
      "GA-epitope-RLRAEAQVK_ind-no_vgene-no_distance_type-lev_kNN-20_n_repeats-100.csv.gz\n",
      "epitope-RLRAEAQVK_ind-no_vgene-no_distanceType-lev_kNN-20_nrepeats-100.csv.gz\n"
     ]
    },
    {
     "name": "stderr",
     "output_type": "stream",
     "text": [
      "/tmp/ipykernel_176188/658929616.py:17: FutureWarning: The default dtype for empty Series will be 'object' instead of 'float64' in a future version. Specify a dtype explicitly to silence this warning.\n",
      "  R_recall = pd.Series()\n"
     ]
    },
    {
     "name": "stdout",
     "output_type": "stream",
     "text": [
      "GA-epitope-SPRWYFYYL_ind-no_vgene-no_distance_type-lev_kNN-20_n_repeats-100.csv.gz\n",
      "epitope-SPRWYFYYL_ind-no_vgene-no_distanceType-lev_kNN-20_nrepeats-100.csv.gz\n"
     ]
    },
    {
     "name": "stderr",
     "output_type": "stream",
     "text": [
      "/tmp/ipykernel_176188/658929616.py:17: FutureWarning: The default dtype for empty Series will be 'object' instead of 'float64' in a future version. Specify a dtype explicitly to silence this warning.\n",
      "  R_recall = pd.Series()\n"
     ]
    },
    {
     "name": "stdout",
     "output_type": "stream",
     "text": [
      "GA-epitope-SSLENFRAYV_ind-no_vgene-no_distance_type-lev_kNN-20_n_repeats-100.csv.gz\n",
      "epitope-SSLENFRAYV_ind-no_vgene-no_distanceType-lev_kNN-20_nrepeats-100.csv.gz\n"
     ]
    },
    {
     "name": "stderr",
     "output_type": "stream",
     "text": [
      "/tmp/ipykernel_176188/658929616.py:17: FutureWarning: The default dtype for empty Series will be 'object' instead of 'float64' in a future version. Specify a dtype explicitly to silence this warning.\n",
      "  R_recall = pd.Series()\n"
     ]
    },
    {
     "name": "stdout",
     "output_type": "stream",
     "text": [
      "GA-epitope-SSPPMFRV_ind-no_vgene-no_distance_type-lev_kNN-20_n_repeats-100.csv.gz\n",
      "epitope-SSPPMFRV_ind-no_vgene-no_distanceType-lev_kNN-20_nrepeats-100.csv.gz\n"
     ]
    },
    {
     "name": "stderr",
     "output_type": "stream",
     "text": [
      "/tmp/ipykernel_176188/658929616.py:17: FutureWarning: The default dtype for empty Series will be 'object' instead of 'float64' in a future version. Specify a dtype explicitly to silence this warning.\n",
      "  R_recall = pd.Series()\n"
     ]
    },
    {
     "name": "stdout",
     "output_type": "stream",
     "text": [
      "GA-epitope-SSYRRPVGI_ind-no_vgene-no_distance_type-lev_kNN-20_n_repeats-100.csv.gz\n",
      "epitope-SSYRRPVGI_ind-no_vgene-no_distanceType-lev_kNN-20_nrepeats-100.csv.gz\n"
     ]
    },
    {
     "name": "stderr",
     "output_type": "stream",
     "text": [
      "/tmp/ipykernel_176188/658929616.py:17: FutureWarning: The default dtype for empty Series will be 'object' instead of 'float64' in a future version. Specify a dtype explicitly to silence this warning.\n",
      "  R_recall = pd.Series()\n"
     ]
    },
    {
     "name": "stdout",
     "output_type": "stream",
     "text": [
      "GA-epitope-TTDPSFLGRY_ind-no_vgene-no_distance_type-lev_kNN-20_n_repeats-100.csv.gz\n",
      "epitope-TTDPSFLGRY_ind-no_vgene-no_distanceType-lev_kNN-20_nrepeats-100.csv.gz\n"
     ]
    },
    {
     "name": "stderr",
     "output_type": "stream",
     "text": [
      "/tmp/ipykernel_176188/658929616.py:17: FutureWarning: The default dtype for empty Series will be 'object' instead of 'float64' in a future version. Specify a dtype explicitly to silence this warning.\n",
      "  R_recall = pd.Series()\n"
     ]
    },
    {
     "name": "stdout",
     "output_type": "stream",
     "text": [
      "GA-epitope-YLQPRTFLL_ind-no_vgene-no_distance_type-lev_kNN-20_n_repeats-100.csv.gz\n",
      "epitope-YLQPRTFLL_ind-no_vgene-no_distanceType-lev_kNN-20_nrepeats-100.csv.gz\n"
     ]
    },
    {
     "name": "stderr",
     "output_type": "stream",
     "text": [
      "/tmp/ipykernel_176188/658929616.py:17: FutureWarning: The default dtype for empty Series will be 'object' instead of 'float64' in a future version. Specify a dtype explicitly to silence this warning.\n",
      "  R_recall = pd.Series()\n"
     ]
    }
   ],
   "source": [
    "allresults_tpr_ga=[]\n",
    "allresults_recall_ga=[]\n",
    "allresults_mode_ga=[]\n",
    "\n",
    "for f in os.listdir(ff0):\n",
    "    if ('.csv' in f) & (chosenDist in f) & ('vgene-no' in f):\n",
    "        print(f)\n",
    "        f1 = f.replace('n_repeats', 'nrepeats')\n",
    "        f1 = f1.replace('distance_type', 'distanceType')\n",
    "        f1 = f1.replace('GA-', '')\n",
    "        print(f1)\n",
    "        properties = {x.split('-')[0]:x.split('-')[1] for x in f1.split('_') if '.csv' not in x}\n",
    "        r = pd.read_csv(ff0+f, index_col=0)\n",
    "        # print(r.head())\n",
    "        correctPairs = (r['alpha'] + '::' + r['correct_beta'] + '::' + r['subject-PMID']).tolist()\n",
    "        R = pd.DataFrame()\n",
    "        R_recall = pd.Series()\n",
    "        for c in r.columns:\n",
    "            if 'repeat' in c:\n",
    "                pairs = (r['alpha'] + '::' + r[c] + '::' + r['subject-PMID']).tolist()\n",
    "                R[c] = [p in correctPairs for p in pairs]\n",
    "                recall = sum([int(p in correctPairs) for p in set(pairs)])\n",
    "                # print(recall)\n",
    "                R_recall[c]=recall\n",
    "        # print(R_recall)\n",
    "        results = pd.DataFrame(R.sum(), columns=['num_correct']).reset_index(names='repeat')\n",
    "        results['epitope'] = properties['epitope']\n",
    "        results['distance']=properties['distanceType']\n",
    "        results['k'] = properties['kNN']\n",
    "        results['N'] = r.shape[0] \n",
    "        results['prop_correct'] = results['num_correct']/results['N']       \n",
    "        allresults_tpr_ga.append(results)\n",
    "\n",
    "        results = pd.DataFrame(R_recall, columns=['num_correct']).reset_index(names='repeat')\n",
    "        results['epitope'] = properties['epitope']\n",
    "        results['distance']=properties['distanceType']\n",
    "        results['k'] = properties['kNN']\n",
    "        results['N'] = r.shape[0] \n",
    "        results['prop_correct'] = results['num_correct']/results['N']       \n",
    "        allresults_recall_ga.append(results)\n",
    "\n",
    "        Rmode = r[['mode','correct','mode_freq']].copy()\n",
    "        Rmode['epitope'] = properties['epitope']\n",
    "        Rmode['distance']=properties['distanceType']\n",
    "        Rmode['k'] = properties['kNN']\n",
    "        Rmode['N'] = r.shape[0] \n",
    "        allresults_mode_ga.append(Rmode)"
   ]
  },
  {
   "cell_type": "code",
   "execution_count": 6,
   "metadata": {},
   "outputs": [
    {
     "name": "stdout",
     "output_type": "stream",
     "text": [
      "GA-epitope-AVFDRKSDAK_ind-no_vgene-no_distance_type-lev_kNN-20_n_repeats-100.csv.gz\n",
      "epitope-AVFDRKSDAK_ind-no_vgene-no_distanceType-lev_kNN-20_nrepeats-100.csv.gz\n"
     ]
    },
    {
     "name": "stderr",
     "output_type": "stream",
     "text": [
      "/tmp/ipykernel_176188/2901426696.py:15: FutureWarning: The default dtype for empty Series will be 'object' instead of 'float64' in a future version. Specify a dtype explicitly to silence this warning.\n",
      "  R_recall = pd.Series()\n"
     ]
    },
    {
     "name": "stdout",
     "output_type": "stream",
     "text": [
      "GA-epitope-GILGFVFTL_ind-no_vgene-no_distance_type-lev_kNN-20_n_repeats-100.csv.gz\n",
      "epitope-GILGFVFTL_ind-no_vgene-no_distanceType-lev_kNN-20_nrepeats-100.csv.gz\n"
     ]
    },
    {
     "name": "stderr",
     "output_type": "stream",
     "text": [
      "/tmp/ipykernel_176188/2901426696.py:15: FutureWarning: The default dtype for empty Series will be 'object' instead of 'float64' in a future version. Specify a dtype explicitly to silence this warning.\n",
      "  R_recall = pd.Series()\n"
     ]
    },
    {
     "name": "stdout",
     "output_type": "stream",
     "text": [
      "GA-epitope-RAKFKQLL_ind-no_vgene-no_distance_type-lev_kNN-20_n_repeats-100.csv.gz\n",
      "epitope-RAKFKQLL_ind-no_vgene-no_distanceType-lev_kNN-20_nrepeats-100.csv.gz\n"
     ]
    },
    {
     "name": "stderr",
     "output_type": "stream",
     "text": [
      "/tmp/ipykernel_176188/2901426696.py:15: FutureWarning: The default dtype for empty Series will be 'object' instead of 'float64' in a future version. Specify a dtype explicitly to silence this warning.\n",
      "  R_recall = pd.Series()\n"
     ]
    },
    {
     "name": "stdout",
     "output_type": "stream",
     "text": [
      "GA-epitope-AVFDRKSDAK_ind-no_vgene-no_distance_type-lev_kNN-20_n_repeats-100.csv.gz\n",
      "epitope-AVFDRKSDAK_ind-no_vgene-no_distanceType-lev_kNN-20_nrepeats-100.csv.gz\n"
     ]
    },
    {
     "name": "stderr",
     "output_type": "stream",
     "text": [
      "/tmp/ipykernel_176188/2901426696.py:15: FutureWarning: The default dtype for empty Series will be 'object' instead of 'float64' in a future version. Specify a dtype explicitly to silence this warning.\n",
      "  R_recall = pd.Series()\n"
     ]
    },
    {
     "name": "stdout",
     "output_type": "stream",
     "text": [
      "GA-epitope-GILGFVFTL_ind-no_vgene-no_distance_type-lev_kNN-20_n_repeats-100.csv.gz\n",
      "epitope-GILGFVFTL_ind-no_vgene-no_distanceType-lev_kNN-20_nrepeats-100.csv.gz\n"
     ]
    },
    {
     "name": "stderr",
     "output_type": "stream",
     "text": [
      "/tmp/ipykernel_176188/2901426696.py:15: FutureWarning: The default dtype for empty Series will be 'object' instead of 'float64' in a future version. Specify a dtype explicitly to silence this warning.\n",
      "  R_recall = pd.Series()\n"
     ]
    },
    {
     "name": "stdout",
     "output_type": "stream",
     "text": [
      "GA-epitope-RAKFKQLL_ind-no_vgene-no_distance_type-lev_kNN-20_n_repeats-100.csv.gz\n",
      "epitope-RAKFKQLL_ind-no_vgene-no_distanceType-lev_kNN-20_nrepeats-100.csv.gz\n"
     ]
    },
    {
     "name": "stderr",
     "output_type": "stream",
     "text": [
      "/tmp/ipykernel_176188/2901426696.py:15: FutureWarning: The default dtype for empty Series will be 'object' instead of 'float64' in a future version. Specify a dtype explicitly to silence this warning.\n",
      "  R_recall = pd.Series()\n"
     ]
    },
    {
     "name": "stdout",
     "output_type": "stream",
     "text": [
      "GA-epitope-AVFDRKSDAK_ind-no_vgene-no_distance_type-lev_kNN-20_n_repeats-100.csv.gz\n",
      "epitope-AVFDRKSDAK_ind-no_vgene-no_distanceType-lev_kNN-20_nrepeats-100.csv.gz\n"
     ]
    },
    {
     "name": "stderr",
     "output_type": "stream",
     "text": [
      "/tmp/ipykernel_176188/2901426696.py:15: FutureWarning: The default dtype for empty Series will be 'object' instead of 'float64' in a future version. Specify a dtype explicitly to silence this warning.\n",
      "  R_recall = pd.Series()\n"
     ]
    },
    {
     "name": "stdout",
     "output_type": "stream",
     "text": [
      "GA-epitope-GILGFVFTL_ind-no_vgene-no_distance_type-lev_kNN-20_n_repeats-100.csv.gz\n",
      "epitope-GILGFVFTL_ind-no_vgene-no_distanceType-lev_kNN-20_nrepeats-100.csv.gz\n"
     ]
    },
    {
     "name": "stderr",
     "output_type": "stream",
     "text": [
      "/tmp/ipykernel_176188/2901426696.py:15: FutureWarning: The default dtype for empty Series will be 'object' instead of 'float64' in a future version. Specify a dtype explicitly to silence this warning.\n",
      "  R_recall = pd.Series()\n"
     ]
    },
    {
     "name": "stdout",
     "output_type": "stream",
     "text": [
      "GA-epitope-RAKFKQLL_ind-no_vgene-no_distance_type-lev_kNN-20_n_repeats-100.csv.gz\n",
      "epitope-RAKFKQLL_ind-no_vgene-no_distanceType-lev_kNN-20_nrepeats-100.csv.gz\n"
     ]
    },
    {
     "name": "stderr",
     "output_type": "stream",
     "text": [
      "/tmp/ipykernel_176188/2901426696.py:15: FutureWarning: The default dtype for empty Series will be 'object' instead of 'float64' in a future version. Specify a dtype explicitly to silence this warning.\n",
      "  R_recall = pd.Series()\n"
     ]
    },
    {
     "name": "stdout",
     "output_type": "stream",
     "text": [
      "GA-epitope-AVFDRKSDAK_ind-no_vgene-no_distance_type-lev_kNN-20_n_repeats-100.csv.gz\n",
      "epitope-AVFDRKSDAK_ind-no_vgene-no_distanceType-lev_kNN-20_nrepeats-100.csv.gz\n"
     ]
    },
    {
     "name": "stderr",
     "output_type": "stream",
     "text": [
      "/tmp/ipykernel_176188/2901426696.py:15: FutureWarning: The default dtype for empty Series will be 'object' instead of 'float64' in a future version. Specify a dtype explicitly to silence this warning.\n",
      "  R_recall = pd.Series()\n"
     ]
    },
    {
     "name": "stdout",
     "output_type": "stream",
     "text": [
      "GA-epitope-GILGFVFTL_ind-no_vgene-no_distance_type-lev_kNN-20_n_repeats-100.csv.gz\n",
      "epitope-GILGFVFTL_ind-no_vgene-no_distanceType-lev_kNN-20_nrepeats-100.csv.gz\n"
     ]
    },
    {
     "name": "stderr",
     "output_type": "stream",
     "text": [
      "/tmp/ipykernel_176188/2901426696.py:15: FutureWarning: The default dtype for empty Series will be 'object' instead of 'float64' in a future version. Specify a dtype explicitly to silence this warning.\n",
      "  R_recall = pd.Series()\n"
     ]
    },
    {
     "name": "stdout",
     "output_type": "stream",
     "text": [
      "GA-epitope-RAKFKQLL_ind-no_vgene-no_distance_type-lev_kNN-20_n_repeats-100.csv.gz\n",
      "epitope-RAKFKQLL_ind-no_vgene-no_distanceType-lev_kNN-20_nrepeats-100.csv.gz\n"
     ]
    },
    {
     "name": "stderr",
     "output_type": "stream",
     "text": [
      "/tmp/ipykernel_176188/2901426696.py:15: FutureWarning: The default dtype for empty Series will be 'object' instead of 'float64' in a future version. Specify a dtype explicitly to silence this warning.\n",
      "  R_recall = pd.Series()\n"
     ]
    },
    {
     "name": "stdout",
     "output_type": "stream",
     "text": [
      "GA-epitope-AVFDRKSDAK_ind-no_vgene-no_distance_type-lev_kNN-20_n_repeats-100.csv.gz\n",
      "epitope-AVFDRKSDAK_ind-no_vgene-no_distanceType-lev_kNN-20_nrepeats-100.csv.gz\n"
     ]
    },
    {
     "name": "stderr",
     "output_type": "stream",
     "text": [
      "/tmp/ipykernel_176188/2901426696.py:15: FutureWarning: The default dtype for empty Series will be 'object' instead of 'float64' in a future version. Specify a dtype explicitly to silence this warning.\n",
      "  R_recall = pd.Series()\n"
     ]
    },
    {
     "name": "stdout",
     "output_type": "stream",
     "text": [
      "GA-epitope-GILGFVFTL_ind-no_vgene-no_distance_type-lev_kNN-20_n_repeats-100.csv.gz\n",
      "epitope-GILGFVFTL_ind-no_vgene-no_distanceType-lev_kNN-20_nrepeats-100.csv.gz\n"
     ]
    },
    {
     "name": "stderr",
     "output_type": "stream",
     "text": [
      "/tmp/ipykernel_176188/2901426696.py:15: FutureWarning: The default dtype for empty Series will be 'object' instead of 'float64' in a future version. Specify a dtype explicitly to silence this warning.\n",
      "  R_recall = pd.Series()\n"
     ]
    },
    {
     "name": "stdout",
     "output_type": "stream",
     "text": [
      "GA-epitope-RAKFKQLL_ind-no_vgene-no_distance_type-lev_kNN-20_n_repeats-100.csv.gz\n",
      "epitope-RAKFKQLL_ind-no_vgene-no_distanceType-lev_kNN-20_nrepeats-100.csv.gz\n"
     ]
    },
    {
     "name": "stderr",
     "output_type": "stream",
     "text": [
      "/tmp/ipykernel_176188/2901426696.py:15: FutureWarning: The default dtype for empty Series will be 'object' instead of 'float64' in a future version. Specify a dtype explicitly to silence this warning.\n",
      "  R_recall = pd.Series()\n"
     ]
    }
   ],
   "source": [
    "for ff10 in os.listdir(ff1):\n",
    "    if 'txt' not in ff10:\n",
    "        for f in os.listdir(ff1+ff10):\n",
    "            if ('.csv' in f) & ('vgene-no' in f) & (chosenDist in f) & ('KLGGALQAK' not in f):\n",
    "                print(f)\n",
    "                f1 = f.replace('n_repeats', 'nrepeats')\n",
    "                f1 = f1.replace('distance_type', 'distanceType')\n",
    "                f1 = f1.replace('GA-', '')\n",
    "                print(f1)\n",
    "                properties = {x.split('-')[0]:x.split('-')[1] for x in f1.split('_') if '.csv' not in x}\n",
    "                r = pd.read_csv(ff1 + ff10+ '/' + f, index_col=0)\n",
    "                # print(r.head())\n",
    "                correctPairs = (r['alpha'] + '::' + r['correct_beta'] + '::' + r['subject-PMID']).tolist()\n",
    "                R = pd.DataFrame()\n",
    "                R_recall = pd.Series()\n",
    "                for c in r.columns:\n",
    "                    if 'repeat' in c:\n",
    "                        pairs = (r['alpha'] + '::' + r[c] + '::' + r['subject-PMID']).tolist()\n",
    "                        R[c] = [p in correctPairs for p in pairs]\n",
    "                        recall = sum([int(p in correctPairs) for p in set(pairs)])\n",
    "                        # print(recall)\n",
    "                        R_recall[c]=recall\n",
    "                # print(R_recall)\n",
    "                results = pd.DataFrame(R.sum(), columns=['num_correct']).reset_index(names='repeat')\n",
    "                results['epitope'] = properties['epitope']   + '_' + str(ff10)\n",
    "                results['distance']=properties['distanceType']\n",
    "                results['k'] = properties['kNN']\n",
    "                results['N'] = r.shape[0] \n",
    "                results['prop_correct'] = results['num_correct']/results['N']       \n",
    "                allresults_tpr_ga.append(results)\n",
    "\n",
    "                results = pd.DataFrame(R_recall, columns=['num_correct']).reset_index(names='repeat')\n",
    "                results['epitope'] = properties['epitope']  + '_' + str(ff10)\n",
    "                results['distance']=properties['distanceType']\n",
    "                results['k'] = properties['kNN']\n",
    "                results['N'] = r.shape[0] \n",
    "                results['prop_correct'] = results['num_correct']/results['N']       \n",
    "                allresults_recall_ga.append(results)\n",
    "\n",
    "                Rmode = r[['mode','correct','mode_freq']].copy()\n",
    "                Rmode['epitope'] = properties['epitope']   + '_' + str(ff10)\n",
    "                Rmode['distance']=properties['distanceType']\n",
    "                Rmode['k'] = properties['kNN']\n",
    "                Rmode['N'] = r.shape[0] \n",
    "                allresults_mode_ga.append(Rmode)"
   ]
  },
  {
   "cell_type": "code",
   "execution_count": 7,
   "metadata": {},
   "outputs": [],
   "source": [
    "all_results_tpr_ga = pd.concat(allresults_tpr_ga)\n",
    "all_results_recall_ga = pd.concat(allresults_recall_ga)"
   ]
  },
  {
   "cell_type": "code",
   "execution_count": 8,
   "metadata": {},
   "outputs": [
    {
     "name": "stdout",
     "output_type": "stream",
     "text": [
      "       repeat  num_correct     epitope distance   k    N  prop_correct\n",
      "0     repeat1           85   ASNENMETM      lev  20  201      0.422886\n",
      "1     repeat2           97   ASNENMETM      lev  20  201      0.482587\n",
      "2     repeat3           91   ASNENMETM      lev  20  201      0.452736\n",
      "3     repeat4           67   ASNENMETM      lev  20  201      0.333333\n",
      "4     repeat5           68   ASNENMETM      lev  20  201      0.338308\n",
      "..        ...          ...         ...      ...  ..  ...           ...\n",
      "95   repeat96          118  RAKFKQLL_4      lev  20  700      0.168571\n",
      "96   repeat97          101  RAKFKQLL_4      lev  20  700      0.144286\n",
      "97   repeat98           88  RAKFKQLL_4      lev  20  700      0.125714\n",
      "98   repeat99           92  RAKFKQLL_4      lev  20  700      0.131429\n",
      "99  repeat100          111  RAKFKQLL_4      lev  20  700      0.158571\n",
      "\n",
      "[3400 rows x 7 columns]\n"
     ]
    }
   ],
   "source": [
    "print(all_results_tpr_ga)"
   ]
  },
  {
   "cell_type": "code",
   "execution_count": 9,
   "metadata": {},
   "outputs": [
    {
     "name": "stdout",
     "output_type": "stream",
     "text": [
      "    correct       epitope distance   k    N  count      prop\n",
      "34     True     ASNENMETM      lev  20  201     85  0.422886\n",
      "35     True     ATDALMTGF      lev  20  125      3  0.024000\n",
      "36     True  AVFDRKSDAK_0      lev  20  700     11  0.015714\n",
      "37     True  AVFDRKSDAK_1      lev  20  700     16  0.022857\n",
      "38     True  AVFDRKSDAK_2      lev  20  700      9  0.012857\n",
      "39     True  AVFDRKSDAK_3      lev  20  700     16  0.022857\n",
      "40     True  AVFDRKSDAK_4      lev  20  700      3  0.004286\n",
      "41     True     CINGVCWTV      lev  20  226      8  0.035398\n",
      "42     True    ELAGIGILTV      lev  20  380     17  0.044737\n",
      "43     True   GILGFVFTL_0      lev  20  700    119  0.170000\n",
      "44     True   GILGFVFTL_1      lev  20  700    120  0.171429\n",
      "45     True   GILGFVFTL_2      lev  20  700    108  0.154286\n",
      "46     True   GILGFVFTL_3      lev  20  700    116  0.165714\n",
      "47     True   GILGFVFTL_4      lev  20  700     89  0.127143\n",
      "48     True     GLCTLVAML      lev  20  345     87  0.252174\n",
      "49     True     HGIRNASFI      lev  20  243     35  0.144033\n",
      "50     True     IVTDFSVIK      lev  20  704    199  0.282670\n",
      "51     True     KSKRTPMGF      lev  20  103      7  0.067961\n",
      "52     True     LLWNGPMAV      lev  20  235      6  0.025532\n",
      "53     True     LSLRNPILV      lev  20  127     39  0.307087\n",
      "54     True     LTDEMIAQY      lev  20  124      8  0.064516\n",
      "55     True     NLVPMVATV      lev  20  357     89  0.249300\n",
      "56     True    RAKFKQLL_0      lev  20  700     92  0.131429\n",
      "57     True    RAKFKQLL_1      lev  20  700     79  0.112857\n",
      "58     True    RAKFKQLL_2      lev  20  700    119  0.170000\n",
      "59     True    RAKFKQLL_3      lev  20  700    107  0.152857\n",
      "60     True    RAKFKQLL_4      lev  20  700     94  0.134286\n",
      "61     True     RLRAEAQVK      lev  20  412      8  0.019417\n",
      "62     True     SPRWYFYYL      lev  20  175     14  0.080000\n",
      "63     True    SSLENFRAYV      lev  20  350     57  0.162857\n",
      "64     True      SSPPMFRV      lev  20  133     59  0.443609\n",
      "65     True     SSYRRPVGI      lev  20  177     54  0.305085\n",
      "66     True    TTDPSFLGRY      lev  20  242      4  0.016529\n",
      "67     True     YLQPRTFLL      lev  20  333     28  0.084084\n"
     ]
    }
   ],
   "source": [
    "all_results_tpr_mode_ga = pd.concat(allresults_mode_ga)\n",
    "modes = all_results_tpr_mode_ga[['correct','epitope','distance','k','N']].groupby(['correct','epitope','distance','k','N']).size().reset_index().rename(columns={0:'count'})\n",
    "modes['prop'] = modes['count']/modes['N']\n",
    "modes_ga_c = modes.loc[modes['correct'] == True]\n",
    "print(modes_ga_c)"
   ]
  },
  {
   "cell_type": "code",
   "execution_count": 10,
   "metadata": {},
   "outputs": [],
   "source": [
    "all_results_tpr_ga.to_csv('GA_results_TPR.csv')"
   ]
  },
  {
   "cell_type": "code",
   "execution_count": 11,
   "metadata": {},
   "outputs": [],
   "source": [
    "ff1 = 'data/output/pairing_MI-IPA/all_eps_noconf/'\n",
    "ff2 = 'data/output/pairing_MI-IPA/best_perf_noconf/'\n",
    "ff3 = 'data/output/pairing_MI-IPA/big_eps_noconf_700/'\n",
    "ff4 = 'data/output/pairing_MI-IPA/big_eps_best_noconf_700/'\n",
    "\n",
    "ff5 = 'data/output/pairing_GAMI/all_eps_L06/'\n",
    "ff6 = 'data/output/pairing_GAMI/big_eps_700_L06/'"
   ]
  },
  {
   "cell_type": "code",
   "execution_count": 12,
   "metadata": {},
   "outputs": [
    {
     "name": "stdout",
     "output_type": "stream",
     "text": [
      "epitope-ASNENMETM_weights-0.6_L-0.6_method-None_prop_test-all_confidence-none_correlation-no_translation-no_ind-no_vgene-no_step-6_ones-keep_test.csv.gz\n",
      "epitope-ASNENMETM_weights-0.6_L-1.0_method-None_prop_test-all_confidence-none_correlation-no_translation-no_ind-no_vgene-no_step-6_ones-keep_test.csv.gz\n",
      "epitope-ATDALMTGF_weights-0.6_L-0.6_method-None_prop_test-all_confidence-none_correlation-no_translation-no_ind-no_vgene-no_step-6_ones-keep_test.csv.gz\n",
      "epitope-ATDALMTGF_weights-0.6_L-1.0_method-None_prop_test-all_confidence-none_correlation-no_translation-no_ind-no_vgene-no_step-6_ones-keep_test.csv.gz\n",
      "epitope-CINGVCWTV_weights-0.6_L-0.6_method-None_prop_test-all_confidence-none_correlation-no_translation-no_ind-no_vgene-no_step-6_ones-keep_test.csv.gz\n",
      "epitope-CINGVCWTV_weights-0.6_L-1.0_method-None_prop_test-all_confidence-none_correlation-no_translation-no_ind-no_vgene-no_step-6_ones-keep_test.csv.gz\n",
      "epitope-ELAGIGILTV_weights-0.6_L-0.6_method-None_prop_test-all_confidence-none_correlation-no_translation-no_ind-no_vgene-no_step-6_ones-keep_test.csv.gz\n",
      "epitope-ELAGIGILTV_weights-0.6_L-1.0_method-None_prop_test-all_confidence-none_correlation-no_translation-no_ind-no_vgene-no_step-6_ones-keep_test.csv.gz\n",
      "epitope-GLCTLVAML_weights-0.6_L-0.6_method-None_prop_test-all_confidence-none_correlation-no_translation-no_ind-no_vgene-no_step-6_ones-keep_test.csv.gz\n",
      "epitope-GLCTLVAML_weights-0.6_L-1.0_method-None_prop_test-all_confidence-none_correlation-no_translation-no_ind-no_vgene-no_step-6_ones-keep_test.csv.gz\n",
      "epitope-HGIRNASFI_weights-0.6_L-0.6_method-None_prop_test-all_confidence-none_correlation-no_translation-no_ind-no_vgene-no_step-6_ones-keep_test.csv.gz\n",
      "epitope-HGIRNASFI_weights-0.6_L-1.0_method-None_prop_test-all_confidence-none_correlation-no_translation-no_ind-no_vgene-no_step-6_ones-keep_test.csv.gz\n",
      "epitope-IVTDFSVIK_weights-0.6_L-0.6_method-None_prop_test-all_confidence-none_correlation-no_translation-no_ind-no_vgene-no_step-6_ones-keep_test.csv.gz\n",
      "epitope-IVTDFSVIK_weights-0.6_L-1.0_method-None_prop_test-all_confidence-none_correlation-no_translation-no_ind-no_vgene-no_step-6_ones-keep_test.csv.gz\n",
      "epitope-KSKRTPMGF_weights-0.6_L-0.6_method-None_prop_test-all_confidence-none_correlation-no_translation-no_ind-no_vgene-no_step-6_ones-keep_test.csv.gz\n",
      "epitope-KSKRTPMGF_weights-0.6_L-1.0_method-None_prop_test-all_confidence-none_correlation-no_translation-no_ind-no_vgene-no_step-6_ones-keep_test.csv.gz\n",
      "epitope-LLWNGPMAV_weights-0.6_L-0.6_method-None_prop_test-all_confidence-none_correlation-no_translation-no_ind-no_vgene-no_step-6_ones-keep_test.csv.gz\n",
      "epitope-LLWNGPMAV_weights-0.6_L-1.0_method-None_prop_test-all_confidence-none_correlation-no_translation-no_ind-no_vgene-no_step-6_ones-keep_test.csv.gz\n",
      "epitope-LSLRNPILV_weights-0.6_L-0.6_method-None_prop_test-all_confidence-none_correlation-no_translation-no_ind-no_vgene-no_step-6_ones-keep_test.csv.gz\n",
      "epitope-LSLRNPILV_weights-0.6_L-1.0_method-None_prop_test-all_confidence-none_correlation-no_translation-no_ind-no_vgene-no_step-6_ones-keep_test.csv.gz\n",
      "epitope-LTDEMIAQY_weights-0.6_L-0.6_method-None_prop_test-all_confidence-none_correlation-no_translation-no_ind-no_vgene-no_step-6_ones-keep_test.csv.gz\n",
      "epitope-LTDEMIAQY_weights-0.6_L-1.0_method-None_prop_test-all_confidence-none_correlation-no_translation-no_ind-no_vgene-no_step-6_ones-keep_test.csv.gz\n",
      "epitope-NLVPMVATV_weights-0.6_L-0.6_method-None_prop_test-all_confidence-none_correlation-no_translation-no_ind-no_vgene-no_step-6_ones-keep_test.csv.gz\n",
      "epitope-NLVPMVATV_weights-0.6_L-1.0_method-None_prop_test-all_confidence-none_correlation-no_translation-no_ind-no_vgene-no_step-6_ones-keep_test.csv.gz\n",
      "epitope-RLRAEAQVK_weights-0.6_L-0.6_method-None_prop_test-all_confidence-none_correlation-no_translation-no_ind-no_vgene-no_step-6_ones-keep_test.csv.gz\n",
      "epitope-RLRAEAQVK_weights-0.6_L-1.0_method-None_prop_test-all_confidence-none_correlation-no_translation-no_ind-no_vgene-no_step-6_ones-keep_test.csv.gz\n",
      "epitope-SPRWYFYYL_weights-0.6_L-0.6_method-None_prop_test-all_confidence-none_correlation-no_translation-no_ind-no_vgene-no_step-6_ones-keep_test.csv.gz\n",
      "epitope-SPRWYFYYL_weights-0.6_L-1.0_method-None_prop_test-all_confidence-none_correlation-no_translation-no_ind-no_vgene-no_step-6_ones-keep_test.csv.gz\n",
      "epitope-SSLENFRAYV_weights-0.6_L-0.6_method-None_prop_test-all_confidence-none_correlation-no_translation-no_ind-no_vgene-no_step-6_ones-keep_test.csv.gz\n",
      "epitope-SSLENFRAYV_weights-0.6_L-1.0_method-None_prop_test-all_confidence-none_correlation-no_translation-no_ind-no_vgene-no_step-6_ones-keep_test.csv.gz\n",
      "epitope-SSPPMFRV_weights-0.6_L-0.6_method-None_prop_test-all_confidence-none_correlation-no_translation-no_ind-no_vgene-no_step-6_ones-keep_test.csv.gz\n",
      "epitope-SSPPMFRV_weights-0.6_L-1.0_method-None_prop_test-all_confidence-none_correlation-no_translation-no_ind-no_vgene-no_step-6_ones-keep_test.csv.gz\n",
      "epitope-SSYRRPVGI_weights-0.6_L-0.6_method-None_prop_test-all_confidence-none_correlation-no_translation-no_ind-no_vgene-no_step-6_ones-keep_test.csv.gz\n",
      "epitope-SSYRRPVGI_weights-0.6_L-1.0_method-None_prop_test-all_confidence-none_correlation-no_translation-no_ind-no_vgene-no_step-6_ones-keep_test.csv.gz\n",
      "epitope-TTDPSFLGRY_weights-0.6_L-0.6_method-None_prop_test-all_confidence-none_correlation-no_translation-no_ind-no_vgene-no_step-6_ones-keep_test.csv.gz\n",
      "epitope-TTDPSFLGRY_weights-0.6_L-1.0_method-None_prop_test-all_confidence-none_correlation-no_translation-no_ind-no_vgene-no_step-6_ones-keep_test.csv.gz\n",
      "epitope-YLQPRTFLL_weights-0.6_L-0.6_method-None_prop_test-all_confidence-none_correlation-no_translation-no_ind-no_vgene-no_step-6_ones-keep_test.csv.gz\n",
      "epitope-YLQPRTFLL_weights-0.6_L-1.0_method-None_prop_test-all_confidence-none_correlation-no_translation-no_ind-no_vgene-no_step-6_ones-keep_test.csv.gz\n"
     ]
    }
   ],
   "source": [
    "allresults_mi = []\n",
    "# mode_results_mi = pd.DataFrame()\n",
    "for f in os.listdir(ff1):\n",
    "    if ('.csv' in f) & ('vgene-no' in f):\n",
    "        print(f)\n",
    "        f1 = f.replace('small_ind', 'smallInd')\n",
    "        f1 = f1.replace('prop_test', 'propTest')\n",
    "        properties = {x.split('-')[0]:x.split('-')[1] for x in f1.split('_') if '.csv' not in x}\n",
    "        results, N = hf.load_df_TPR(ff1 + f)\n",
    "        results = pd.DataFrame(np.array(np.array([x for x in results])))\n",
    "        its = results.shape[1]-1\n",
    "        results['test_size'] = N\n",
    "        results['final_test'] = results[its]\n",
    "        results['final_test_prop'] = results[its] / N\n",
    "        results['epitope'] = properties['epitope']\n",
    "        results['vgene'] = properties['vgene']\n",
    "        results['L'] = properties['L']\n",
    "        allresults_mi.append(results[['test_size','final_test','final_test_prop','epitope','L','vgene']])\n",
    "\n",
    "        # this second half calculates the mode\n",
    "        # df = hf.load_df(ff1 + f)\n",
    "\n",
    "        # epdf = _define_individuals(vdj, properties['epitope'], 'no')\n",
    "        # epdf = mf.prepare_data(epdf, col1='cdr3a_IMGTgaps', col2 ='cdr3b_IMGTgaps')\n",
    "        # a = np.array(epdf['cdr3a_IMGTgaps_padded'].str.split(', ', expand=True))\n",
    "        # a = a[:, ~np.all(a[1:] == a[:-1], axis=0)] # remove columns where all values are equal to first value\n",
    "        # epdf['alpha'] = [''.join(x) for x in a] # then substitute original column\n",
    "        # a = np.array(epdf['cdr3b_IMGTgaps_padded'].str.split(', ', expand=True))\n",
    "        # a = a[:, ~np.all(a[1:] == a[:-1], axis=0)] # remove columns where all values are equal to first value\n",
    "        # epdf['beta'] = [''.join(x) for x in a] # then substitute original column         \n",
    "\n",
    "        # df_final = hf.check_mode_correct_IPA(df.reset_index(),epdf)\n",
    "        # df_mode = df_final[['mode_freq','correct']]\n",
    "        # df_mode['L'] = properties['L']\n",
    "        # df_mode['epitope'] = properties['epitope']\n",
    "        # mode_results_mi = pd.concat([mode_results_mi,df_mode])\n",
    "\n",
    "        # print(mode_results_mi)"
   ]
  },
  {
   "cell_type": "code",
   "execution_count": 13,
   "metadata": {},
   "outputs": [
    {
     "name": "stdout",
     "output_type": "stream",
     "text": [
      "0 epitope-AVFDRKSDAK_weights-0.6_L-0.6_method-None_prop_test-all_confidence-none_correlation-no_translation-no_ind-no_vgene-no_step-6_ones-keep_test.csv.gz\n",
      "0 epitope-AVFDRKSDAK_weights-0.6_L-1.0_method-None_prop_test-all_confidence-none_correlation-no_translation-no_ind-no_vgene-no_step-6_ones-keep_test.csv.gz\n",
      "0 epitope-GILGFVFTL_weights-0.6_L-0.6_method-None_prop_test-all_confidence-none_correlation-no_translation-no_ind-no_vgene-no_step-6_ones-keep_test.csv.gz\n",
      "0 epitope-GILGFVFTL_weights-0.6_L-1.0_method-None_prop_test-all_confidence-none_correlation-no_translation-no_ind-no_vgene-no_step-6_ones-keep_test.csv.gz\n",
      "0 epitope-RAKFKQLL_weights-0.6_L-0.6_method-None_prop_test-all_confidence-none_correlation-no_translation-no_ind-no_vgene-no_step-6_ones-keep_test.csv.gz\n",
      "0 epitope-RAKFKQLL_weights-0.6_L-1.0_method-None_prop_test-all_confidence-none_correlation-no_translation-no_ind-no_vgene-no_step-6_ones-keep_test.csv.gz\n",
      "1 epitope-AVFDRKSDAK_weights-0.6_L-0.6_method-None_prop_test-all_confidence-none_correlation-no_translation-no_ind-no_vgene-no_step-6_ones-keep_test.csv.gz\n",
      "1 epitope-AVFDRKSDAK_weights-0.6_L-1.0_method-None_prop_test-all_confidence-none_correlation-no_translation-no_ind-no_vgene-no_step-6_ones-keep_test.csv.gz\n",
      "1 epitope-GILGFVFTL_weights-0.6_L-0.6_method-None_prop_test-all_confidence-none_correlation-no_translation-no_ind-no_vgene-no_step-6_ones-keep_test.csv.gz\n",
      "1 epitope-GILGFVFTL_weights-0.6_L-1.0_method-None_prop_test-all_confidence-none_correlation-no_translation-no_ind-no_vgene-no_step-6_ones-keep_test.csv.gz\n",
      "1 epitope-RAKFKQLL_weights-0.6_L-0.6_method-None_prop_test-all_confidence-none_correlation-no_translation-no_ind-no_vgene-no_step-6_ones-keep_test.csv.gz\n",
      "1 epitope-RAKFKQLL_weights-0.6_L-1.0_method-None_prop_test-all_confidence-none_correlation-no_translation-no_ind-no_vgene-no_step-6_ones-keep_test.csv.gz\n",
      "2 epitope-AVFDRKSDAK_weights-0.6_L-0.6_method-None_prop_test-all_confidence-none_correlation-no_translation-no_ind-no_vgene-no_step-6_ones-keep_test.csv.gz\n",
      "2 epitope-AVFDRKSDAK_weights-0.6_L-1.0_method-None_prop_test-all_confidence-none_correlation-no_translation-no_ind-no_vgene-no_step-6_ones-keep_test.csv.gz\n",
      "2 epitope-GILGFVFTL_weights-0.6_L-0.6_method-None_prop_test-all_confidence-none_correlation-no_translation-no_ind-no_vgene-no_step-6_ones-keep_test.csv.gz\n",
      "2 epitope-GILGFVFTL_weights-0.6_L-1.0_method-None_prop_test-all_confidence-none_correlation-no_translation-no_ind-no_vgene-no_step-6_ones-keep_test.csv.gz\n",
      "2 epitope-RAKFKQLL_weights-0.6_L-0.6_method-None_prop_test-all_confidence-none_correlation-no_translation-no_ind-no_vgene-no_step-6_ones-keep_test.csv.gz\n",
      "2 epitope-RAKFKQLL_weights-0.6_L-1.0_method-None_prop_test-all_confidence-none_correlation-no_translation-no_ind-no_vgene-no_step-6_ones-keep_test.csv.gz\n",
      "3 epitope-AVFDRKSDAK_weights-0.6_L-0.6_method-None_prop_test-all_confidence-none_correlation-no_translation-no_ind-no_vgene-no_step-6_ones-keep_test.csv.gz\n",
      "3 epitope-AVFDRKSDAK_weights-0.6_L-1.0_method-None_prop_test-all_confidence-none_correlation-no_translation-no_ind-no_vgene-no_step-6_ones-keep_test.csv.gz\n",
      "3 epitope-GILGFVFTL_weights-0.6_L-0.6_method-None_prop_test-all_confidence-none_correlation-no_translation-no_ind-no_vgene-no_step-6_ones-keep_test.csv.gz\n",
      "3 epitope-GILGFVFTL_weights-0.6_L-1.0_method-None_prop_test-all_confidence-none_correlation-no_translation-no_ind-no_vgene-no_step-6_ones-keep_test.csv.gz\n",
      "3 epitope-RAKFKQLL_weights-0.6_L-0.6_method-None_prop_test-all_confidence-none_correlation-no_translation-no_ind-no_vgene-no_step-6_ones-keep_test.csv.gz\n",
      "3 epitope-RAKFKQLL_weights-0.6_L-1.0_method-None_prop_test-all_confidence-none_correlation-no_translation-no_ind-no_vgene-no_step-6_ones-keep_test.csv.gz\n",
      "4 epitope-AVFDRKSDAK_weights-0.6_L-0.6_method-None_prop_test-all_confidence-none_correlation-no_translation-no_ind-no_vgene-no_step-6_ones-keep_test.csv.gz\n",
      "4 epitope-AVFDRKSDAK_weights-0.6_L-1.0_method-None_prop_test-all_confidence-none_correlation-no_translation-no_ind-no_vgene-no_step-6_ones-keep_test.csv.gz\n",
      "4 epitope-GILGFVFTL_weights-0.6_L-0.6_method-None_prop_test-all_confidence-none_correlation-no_translation-no_ind-no_vgene-no_step-6_ones-keep_test.csv.gz\n",
      "4 epitope-GILGFVFTL_weights-0.6_L-1.0_method-None_prop_test-all_confidence-none_correlation-no_translation-no_ind-no_vgene-no_step-6_ones-keep_test.csv.gz\n",
      "4 epitope-RAKFKQLL_weights-0.6_L-0.6_method-None_prop_test-all_confidence-none_correlation-no_translation-no_ind-no_vgene-no_step-6_ones-keep_test.csv.gz\n",
      "4 epitope-RAKFKQLL_weights-0.6_L-1.0_method-None_prop_test-all_confidence-none_correlation-no_translation-no_ind-no_vgene-no_step-6_ones-keep_test.csv.gz\n"
     ]
    }
   ],
   "source": [
    "for ff30 in os.listdir(ff3):\n",
    "    if 'txt' not in ff30:\n",
    "        for f in os.listdir(ff3 + ff30):\n",
    "            if ('.csv' in f) & ('vgene-no' in f) & ('KLGGALQAK' not in f):\n",
    "                print(ff30, f)\n",
    "                f1 = f.replace('small_ind', 'smallInd')\n",
    "                f1 = f1.replace('prop_test', 'propTest')\n",
    "                properties = {x.split('-')[0]:x.split('-')[1] for x in f1.split('_') if '.csv' not in x}\n",
    "                results, N = hf.load_df_TPR(ff3 + ff30 +'/' + f)\n",
    "                results = pd.DataFrame(np.array(np.array([x for x in results])))\n",
    "                its = results.shape[1]-1\n",
    "                results['test_size'] = N\n",
    "                results['final_test'] = results[its]\n",
    "                results['final_test_prop'] = results[its] / N\n",
    "                results['epitope'] = properties['epitope']  + '_' + str(ff30)\n",
    "                results['vgene'] = properties['vgene']\n",
    "                results['L'] = properties['L']\n",
    "                allresults_mi.append(results[['test_size','final_test','final_test_prop','epitope','L','vgene']])\n",
    "\n",
    "                # this second half calculates the mode\n",
    "                # start = time.time()\n",
    "                # df = hf.load_df(ff3 + ff30 +'/' + f)\n",
    "                # print(time.time()-start)\n",
    "\n",
    "                # epdf = _define_individuals(vdj, properties['epitope'], 'no')\n",
    "                # epdf = mf.prepare_data(epdf, col1='cdr3a_IMGTgaps', col2 ='cdr3b_IMGTgaps')\n",
    "                # a = np.array(epdf['cdr3a_IMGTgaps_padded'].str.split(', ', expand=True))\n",
    "                # a = a[:, ~np.all(a[1:] == a[:-1], axis=0)] # remove columns where all values are equal to first value\n",
    "                # epdf['alpha'] = [''.join(x) for x in a] # then substitute original column\n",
    "                # a = np.array(epdf['cdr3b_IMGTgaps_padded'].str.split(', ', expand=True))\n",
    "                # a = a[:, ~np.all(a[1:] == a[:-1], axis=0)] # remove columns where all values are equal to first value\n",
    "                # epdf['beta'] = [''.join(x) for x in a] # then substitute original column         \n",
    "\n",
    "                # df_final = hf.check_mode_correct_IPA(df.reset_index(),epdf)\n",
    "                # df_mode = df_final[['mode_freq','correct']]\n",
    "                # df_mode['L'] = properties['L']\n",
    "                # df_mode['epitope'] = properties['epitope']  + '_' + str(ff30)\n",
    "                # mode_results_mi = pd.concat([mode_results_mi,df_mode])\n",
    "\n",
    "                # print(mode_results_mi)"
   ]
  },
  {
   "cell_type": "code",
   "execution_count": 14,
   "metadata": {},
   "outputs": [],
   "source": [
    "# gm = mode_results_mi[['epitope','L','correct']].groupby(['epitope','L','correct']).size().reset_index()\n",
    "# gm1 = gm.groupby(['epitope','L']).sum().reset_index()[['epitope','L',0]]\n",
    "# gm = gm.rename(columns={0:'counts'})\n",
    "# gm1 = gm1.rename(columns={0:'N'})\n",
    "\n",
    "# grouped_mode_mi = pd.merge(gm, gm1)\n",
    "# grouped_mode_mi['prop'] = grouped_mode_mi['counts']/grouped_mode_mi['N']\n",
    "# # print(grouped_mode_mi)\n",
    "# grouped_mode_mi_c = grouped_mode_mi.loc[grouped_mode_mi['correct'] == True].reset_index(drop=True)\n",
    "# print(grouped_mode_mi_c)"
   ]
  },
  {
   "cell_type": "code",
   "execution_count": 15,
   "metadata": {},
   "outputs": [
    {
     "name": "stdout",
     "output_type": "stream",
     "text": [
      "epitope-ASNENMETM_weights-0.6_L-0.6_method-None_prop_test-0_confidence-none_correlation-no_translation-no_ind-no_vgene-no_step-6_ones-keep_test.csv.gz\n",
      "epitope-ATDALMTGF_weights-0.6_L-0.6_method-None_prop_test-0_confidence-none_correlation-no_translation-no_ind-no_vgene-no_step-6_ones-keep_test.csv.gz\n",
      "epitope-CINGVCWTV_weights-0.6_L-0.6_method-None_prop_test-0_confidence-none_correlation-no_translation-no_ind-no_vgene-no_step-6_ones-keep_test.csv.gz\n",
      "epitope-ELAGIGILTV_weights-0.6_L-0.6_method-None_prop_test-0_confidence-none_correlation-no_translation-no_ind-no_vgene-no_step-6_ones-keep_test.csv.gz\n",
      "epitope-GLCTLVAML_weights-0.6_L-0.6_method-None_prop_test-0_confidence-none_correlation-no_translation-no_ind-no_vgene-no_step-6_ones-keep_test.csv.gz\n",
      "epitope-HGIRNASFI_weights-0.6_L-0.6_method-None_prop_test-0_confidence-none_correlation-no_translation-no_ind-no_vgene-no_step-6_ones-keep_test.csv.gz\n",
      "epitope-IVTDFSVIK_weights-0.6_L-0.6_method-None_prop_test-0_confidence-none_correlation-no_translation-no_ind-no_vgene-no_step-6_ones-keep_test.csv.gz\n",
      "epitope-KSKRTPMGF_weights-0.6_L-0.6_method-None_prop_test-0_confidence-none_correlation-no_translation-no_ind-no_vgene-no_step-6_ones-keep_test.csv.gz\n",
      "epitope-LLWNGPMAV_weights-0.6_L-0.6_method-None_prop_test-0_confidence-none_correlation-no_translation-no_ind-no_vgene-no_step-6_ones-keep_test.csv.gz\n",
      "epitope-LSLRNPILV_weights-0.6_L-0.6_method-None_prop_test-0_confidence-none_correlation-no_translation-no_ind-no_vgene-no_step-6_ones-keep_test.csv.gz\n",
      "epitope-LTDEMIAQY_weights-0.6_L-0.6_method-None_prop_test-0_confidence-none_correlation-no_translation-no_ind-no_vgene-no_step-6_ones-keep_test.csv.gz\n",
      "epitope-NLVPMVATV_weights-0.6_L-0.6_method-None_prop_test-0_confidence-none_correlation-no_translation-no_ind-no_vgene-no_step-6_ones-keep_test.csv.gz\n",
      "epitope-RLRAEAQVK_weights-0.6_L-0.6_method-None_prop_test-0_confidence-none_correlation-no_translation-no_ind-no_vgene-no_step-6_ones-keep_test.csv.gz\n",
      "epitope-SPRWYFYYL_weights-0.6_L-0.6_method-None_prop_test-0_confidence-none_correlation-no_translation-no_ind-no_vgene-no_step-6_ones-keep_test.csv.gz\n",
      "epitope-SSLENFRAYV_weights-0.6_L-0.6_method-None_prop_test-0_confidence-none_correlation-no_translation-no_ind-no_vgene-no_step-6_ones-keep_test.csv.gz\n",
      "epitope-SSPPMFRV_weights-0.6_L-0.6_method-None_prop_test-0_confidence-none_correlation-no_translation-no_ind-no_vgene-no_step-6_ones-keep_test.csv.gz\n",
      "epitope-SSYRRPVGI_weights-0.6_L-0.6_method-None_prop_test-0_confidence-none_correlation-no_translation-no_ind-no_vgene-no_step-6_ones-keep_test.csv.gz\n",
      "epitope-TTDPSFLGRY_weights-0.6_L-0.6_method-None_prop_test-0_confidence-none_correlation-no_translation-no_ind-no_vgene-no_step-6_ones-keep_test.csv.gz\n",
      "epitope-YLQPRTFLL_weights-0.6_L-0.6_method-None_prop_test-0_confidence-none_correlation-no_translation-no_ind-no_vgene-no_step-6_ones-keep_test.csv.gz\n"
     ]
    }
   ],
   "source": [
    "allresults_best = []\n",
    "for f in os.listdir(ff2):\n",
    "    if ('.csv' in f) & ('vgene-no' in f):\n",
    "        print(f)\n",
    "        f1 = f.replace('small_ind', 'smallInd')\n",
    "        f1 = f1.replace('prop_test', 'propTest')\n",
    "        properties = {x.split('-')[0]:x.split('-')[1] for x in f1.split('_') if '.csv' not in x}\n",
    "        results, N = hf.load_df_TPR(ff2 + f)\n",
    "        results = pd.DataFrame(np.array(np.array([x for x in results])))\n",
    "        its = results.shape[1]-1\n",
    "        results['test_size'] = N\n",
    "        results['final_test'] = results[its]\n",
    "        results['final_test_prop'] = results[its] / N\n",
    "        results['epitope'] = properties['epitope']\n",
    "        results['L'] = properties['L']\n",
    "        results['confidence'] = properties['confidence']\n",
    "        results['vgene'] = properties['vgene']\n",
    "        allresults_best.append(results[['test_size','final_test','final_test_prop','epitope','L', 'confidence','vgene']])"
   ]
  },
  {
   "cell_type": "code",
   "execution_count": 16,
   "metadata": {},
   "outputs": [
    {
     "name": "stdout",
     "output_type": "stream",
     "text": [
      "epitope-AVFDRKSDAK_weights-0.6_L-0.6_method-None_prop_test-0_confidence-none_correlation-no_translation-no_ind-no_vgene-no_step-6_ones-keep_test.csv.gz\n",
      "epitope-GILGFVFTL_weights-0.6_L-0.6_method-None_prop_test-0_confidence-none_correlation-no_translation-no_ind-no_vgene-no_step-6_ones-keep_test.csv.gz\n",
      "epitope-RAKFKQLL_weights-0.6_L-0.6_method-None_prop_test-0_confidence-none_correlation-no_translation-no_ind-no_vgene-no_step-6_ones-keep_test.csv.gz\n",
      "epitope-AVFDRKSDAK_weights-0.6_L-0.6_method-None_prop_test-0_confidence-none_correlation-no_translation-no_ind-no_vgene-no_step-6_ones-keep_test.csv.gz\n",
      "epitope-GILGFVFTL_weights-0.6_L-0.6_method-None_prop_test-0_confidence-none_correlation-no_translation-no_ind-no_vgene-no_step-6_ones-keep_test.csv.gz\n",
      "epitope-RAKFKQLL_weights-0.6_L-0.6_method-None_prop_test-0_confidence-none_correlation-no_translation-no_ind-no_vgene-no_step-6_ones-keep_test.csv.gz\n",
      "epitope-AVFDRKSDAK_weights-0.6_L-0.6_method-None_prop_test-0_confidence-none_correlation-no_translation-no_ind-no_vgene-no_step-6_ones-keep_test.csv.gz\n",
      "epitope-GILGFVFTL_weights-0.6_L-0.6_method-None_prop_test-0_confidence-none_correlation-no_translation-no_ind-no_vgene-no_step-6_ones-keep_test.csv.gz\n",
      "epitope-RAKFKQLL_weights-0.6_L-0.6_method-None_prop_test-0_confidence-none_correlation-no_translation-no_ind-no_vgene-no_step-6_ones-keep_test.csv.gz\n",
      "epitope-AVFDRKSDAK_weights-0.6_L-0.6_method-None_prop_test-0_confidence-none_correlation-no_translation-no_ind-no_vgene-no_step-6_ones-keep_test.csv.gz\n",
      "epitope-GILGFVFTL_weights-0.6_L-0.6_method-None_prop_test-0_confidence-none_correlation-no_translation-no_ind-no_vgene-no_step-6_ones-keep_test.csv.gz\n",
      "epitope-RAKFKQLL_weights-0.6_L-0.6_method-None_prop_test-0_confidence-none_correlation-no_translation-no_ind-no_vgene-no_step-6_ones-keep_test.csv.gz\n",
      "epitope-AVFDRKSDAK_weights-0.6_L-0.6_method-None_prop_test-0_confidence-none_correlation-no_translation-no_ind-no_vgene-no_step-6_ones-keep_test.csv.gz\n",
      "epitope-GILGFVFTL_weights-0.6_L-0.6_method-None_prop_test-0_confidence-none_correlation-no_translation-no_ind-no_vgene-no_step-6_ones-keep_test.csv.gz\n",
      "epitope-RAKFKQLL_weights-0.6_L-0.6_method-None_prop_test-0_confidence-none_correlation-no_translation-no_ind-no_vgene-no_step-6_ones-keep_test.csv.gz\n"
     ]
    }
   ],
   "source": [
    "for ff40 in os.listdir(ff4):\n",
    "    if 'txt' not in ff40:\n",
    "        for f in os.listdir(ff4 + ff40):\n",
    "            if ('.csv' in f) & ('vgene-no' in f) & ('KLGGALQAK' not in f):\n",
    "                print(f)\n",
    "                f1 = f.replace('small_ind', 'smallInd')\n",
    "                f1 = f1.replace('prop_test', 'propTest')\n",
    "                properties = {x.split('-')[0]:x.split('-')[1] for x in f1.split('_') if '.csv' not in x}\n",
    "                results, N = hf.load_df_TPR(ff4 + ff40 + '/' + f)\n",
    "                results = pd.DataFrame(np.array(np.array([x for x in results])))\n",
    "                its = results.shape[1]-1\n",
    "                results['test_size'] = N\n",
    "                results['final_test'] = results[its]\n",
    "                results['final_test_prop'] = results[its] / N\n",
    "                results['epitope'] = properties['epitope']  + '_' + str(ff40)\n",
    "                results['L'] = properties['L']\n",
    "                results['confidence'] = properties['confidence']\n",
    "                results['vgene'] = properties['vgene']\n",
    "                allresults_best.append(results[['test_size','final_test','final_test_prop','epitope','L', 'confidence','vgene']])"
   ]
  },
  {
   "cell_type": "code",
   "execution_count": 17,
   "metadata": {},
   "outputs": [],
   "source": [
    "all_results_mi = pd.concat(allresults_mi)\n",
    "all_results_mi = all_results_mi.sort_values(by='epitope')"
   ]
  },
  {
   "cell_type": "code",
   "execution_count": 18,
   "metadata": {},
   "outputs": [],
   "source": [
    "all_results_mi.to_csv('MI-IPA_results_TPR.csv')"
   ]
  },
  {
   "cell_type": "code",
   "execution_count": 19,
   "metadata": {},
   "outputs": [],
   "source": [
    "best_results = pd.concat(allresults_best)\n",
    "best_results = best_results.loc[(best_results['confidence'] == 'none') & (best_results['L'] == '0.6')].sort_values(by='epitope')"
   ]
  },
  {
   "cell_type": "code",
   "execution_count": 20,
   "metadata": {},
   "outputs": [
    {
     "data": {
      "text/html": [
       "<div>\n",
       "<style scoped>\n",
       "    .dataframe tbody tr th:only-of-type {\n",
       "        vertical-align: middle;\n",
       "    }\n",
       "\n",
       "    .dataframe tbody tr th {\n",
       "        vertical-align: top;\n",
       "    }\n",
       "\n",
       "    .dataframe thead th {\n",
       "        text-align: right;\n",
       "    }\n",
       "</style>\n",
       "<table border=\"1\" class=\"dataframe\">\n",
       "  <thead>\n",
       "    <tr style=\"text-align: right;\">\n",
       "      <th></th>\n",
       "      <th>test_size</th>\n",
       "      <th>final_test</th>\n",
       "      <th>final_test_prop</th>\n",
       "      <th>epitope</th>\n",
       "      <th>L</th>\n",
       "      <th>confidence</th>\n",
       "      <th>vgene</th>\n",
       "    </tr>\n",
       "  </thead>\n",
       "  <tbody>\n",
       "    <tr>\n",
       "      <th>0</th>\n",
       "      <td>201</td>\n",
       "      <td>144.0</td>\n",
       "      <td>0.716418</td>\n",
       "      <td>ASNENMETM</td>\n",
       "      <td>0.6</td>\n",
       "      <td>none</td>\n",
       "      <td>no</td>\n",
       "    </tr>\n",
       "    <tr>\n",
       "      <th>0</th>\n",
       "      <td>125</td>\n",
       "      <td>75.0</td>\n",
       "      <td>0.600000</td>\n",
       "      <td>ATDALMTGF</td>\n",
       "      <td>0.6</td>\n",
       "      <td>none</td>\n",
       "      <td>no</td>\n",
       "    </tr>\n",
       "    <tr>\n",
       "      <th>0</th>\n",
       "      <td>700</td>\n",
       "      <td>87.0</td>\n",
       "      <td>0.124286</td>\n",
       "      <td>AVFDRKSDAK_0</td>\n",
       "      <td>0.6</td>\n",
       "      <td>none</td>\n",
       "      <td>no</td>\n",
       "    </tr>\n",
       "    <tr>\n",
       "      <th>0</th>\n",
       "      <td>700</td>\n",
       "      <td>98.0</td>\n",
       "      <td>0.140000</td>\n",
       "      <td>AVFDRKSDAK_1</td>\n",
       "      <td>0.6</td>\n",
       "      <td>none</td>\n",
       "      <td>no</td>\n",
       "    </tr>\n",
       "    <tr>\n",
       "      <th>0</th>\n",
       "      <td>700</td>\n",
       "      <td>82.0</td>\n",
       "      <td>0.117143</td>\n",
       "      <td>AVFDRKSDAK_2</td>\n",
       "      <td>0.6</td>\n",
       "      <td>none</td>\n",
       "      <td>no</td>\n",
       "    </tr>\n",
       "    <tr>\n",
       "      <th>0</th>\n",
       "      <td>700</td>\n",
       "      <td>72.0</td>\n",
       "      <td>0.102857</td>\n",
       "      <td>AVFDRKSDAK_3</td>\n",
       "      <td>0.6</td>\n",
       "      <td>none</td>\n",
       "      <td>no</td>\n",
       "    </tr>\n",
       "    <tr>\n",
       "      <th>0</th>\n",
       "      <td>700</td>\n",
       "      <td>84.0</td>\n",
       "      <td>0.120000</td>\n",
       "      <td>AVFDRKSDAK_4</td>\n",
       "      <td>0.6</td>\n",
       "      <td>none</td>\n",
       "      <td>no</td>\n",
       "    </tr>\n",
       "    <tr>\n",
       "      <th>0</th>\n",
       "      <td>226</td>\n",
       "      <td>100.0</td>\n",
       "      <td>0.442478</td>\n",
       "      <td>CINGVCWTV</td>\n",
       "      <td>0.6</td>\n",
       "      <td>none</td>\n",
       "      <td>no</td>\n",
       "    </tr>\n",
       "    <tr>\n",
       "      <th>0</th>\n",
       "      <td>380</td>\n",
       "      <td>76.0</td>\n",
       "      <td>0.200000</td>\n",
       "      <td>ELAGIGILTV</td>\n",
       "      <td>0.6</td>\n",
       "      <td>none</td>\n",
       "      <td>no</td>\n",
       "    </tr>\n",
       "    <tr>\n",
       "      <th>0</th>\n",
       "      <td>700</td>\n",
       "      <td>110.0</td>\n",
       "      <td>0.157143</td>\n",
       "      <td>GILGFVFTL_0</td>\n",
       "      <td>0.6</td>\n",
       "      <td>none</td>\n",
       "      <td>no</td>\n",
       "    </tr>\n",
       "    <tr>\n",
       "      <th>0</th>\n",
       "      <td>700</td>\n",
       "      <td>147.0</td>\n",
       "      <td>0.210000</td>\n",
       "      <td>GILGFVFTL_1</td>\n",
       "      <td>0.6</td>\n",
       "      <td>none</td>\n",
       "      <td>no</td>\n",
       "    </tr>\n",
       "    <tr>\n",
       "      <th>0</th>\n",
       "      <td>700</td>\n",
       "      <td>137.0</td>\n",
       "      <td>0.195714</td>\n",
       "      <td>GILGFVFTL_2</td>\n",
       "      <td>0.6</td>\n",
       "      <td>none</td>\n",
       "      <td>no</td>\n",
       "    </tr>\n",
       "    <tr>\n",
       "      <th>0</th>\n",
       "      <td>700</td>\n",
       "      <td>133.0</td>\n",
       "      <td>0.190000</td>\n",
       "      <td>GILGFVFTL_3</td>\n",
       "      <td>0.6</td>\n",
       "      <td>none</td>\n",
       "      <td>no</td>\n",
       "    </tr>\n",
       "    <tr>\n",
       "      <th>0</th>\n",
       "      <td>700</td>\n",
       "      <td>135.0</td>\n",
       "      <td>0.192857</td>\n",
       "      <td>GILGFVFTL_4</td>\n",
       "      <td>0.6</td>\n",
       "      <td>none</td>\n",
       "      <td>no</td>\n",
       "    </tr>\n",
       "    <tr>\n",
       "      <th>0</th>\n",
       "      <td>345</td>\n",
       "      <td>161.0</td>\n",
       "      <td>0.466667</td>\n",
       "      <td>GLCTLVAML</td>\n",
       "      <td>0.6</td>\n",
       "      <td>none</td>\n",
       "      <td>no</td>\n",
       "    </tr>\n",
       "    <tr>\n",
       "      <th>0</th>\n",
       "      <td>243</td>\n",
       "      <td>97.0</td>\n",
       "      <td>0.399177</td>\n",
       "      <td>HGIRNASFI</td>\n",
       "      <td>0.6</td>\n",
       "      <td>none</td>\n",
       "      <td>no</td>\n",
       "    </tr>\n",
       "    <tr>\n",
       "      <th>0</th>\n",
       "      <td>704</td>\n",
       "      <td>250.0</td>\n",
       "      <td>0.355114</td>\n",
       "      <td>IVTDFSVIK</td>\n",
       "      <td>0.6</td>\n",
       "      <td>none</td>\n",
       "      <td>no</td>\n",
       "    </tr>\n",
       "    <tr>\n",
       "      <th>0</th>\n",
       "      <td>103</td>\n",
       "      <td>90.0</td>\n",
       "      <td>0.873786</td>\n",
       "      <td>KSKRTPMGF</td>\n",
       "      <td>0.6</td>\n",
       "      <td>none</td>\n",
       "      <td>no</td>\n",
       "    </tr>\n",
       "    <tr>\n",
       "      <th>0</th>\n",
       "      <td>235</td>\n",
       "      <td>52.0</td>\n",
       "      <td>0.221277</td>\n",
       "      <td>LLWNGPMAV</td>\n",
       "      <td>0.6</td>\n",
       "      <td>none</td>\n",
       "      <td>no</td>\n",
       "    </tr>\n",
       "    <tr>\n",
       "      <th>0</th>\n",
       "      <td>127</td>\n",
       "      <td>87.0</td>\n",
       "      <td>0.685039</td>\n",
       "      <td>LSLRNPILV</td>\n",
       "      <td>0.6</td>\n",
       "      <td>none</td>\n",
       "      <td>no</td>\n",
       "    </tr>\n",
       "    <tr>\n",
       "      <th>0</th>\n",
       "      <td>124</td>\n",
       "      <td>72.0</td>\n",
       "      <td>0.580645</td>\n",
       "      <td>LTDEMIAQY</td>\n",
       "      <td>0.6</td>\n",
       "      <td>none</td>\n",
       "      <td>no</td>\n",
       "    </tr>\n",
       "    <tr>\n",
       "      <th>0</th>\n",
       "      <td>357</td>\n",
       "      <td>168.0</td>\n",
       "      <td>0.470588</td>\n",
       "      <td>NLVPMVATV</td>\n",
       "      <td>0.6</td>\n",
       "      <td>none</td>\n",
       "      <td>no</td>\n",
       "    </tr>\n",
       "    <tr>\n",
       "      <th>0</th>\n",
       "      <td>700</td>\n",
       "      <td>164.0</td>\n",
       "      <td>0.234286</td>\n",
       "      <td>RAKFKQLL_0</td>\n",
       "      <td>0.6</td>\n",
       "      <td>none</td>\n",
       "      <td>no</td>\n",
       "    </tr>\n",
       "    <tr>\n",
       "      <th>0</th>\n",
       "      <td>700</td>\n",
       "      <td>159.0</td>\n",
       "      <td>0.227143</td>\n",
       "      <td>RAKFKQLL_1</td>\n",
       "      <td>0.6</td>\n",
       "      <td>none</td>\n",
       "      <td>no</td>\n",
       "    </tr>\n",
       "    <tr>\n",
       "      <th>0</th>\n",
       "      <td>700</td>\n",
       "      <td>188.0</td>\n",
       "      <td>0.268571</td>\n",
       "      <td>RAKFKQLL_2</td>\n",
       "      <td>0.6</td>\n",
       "      <td>none</td>\n",
       "      <td>no</td>\n",
       "    </tr>\n",
       "    <tr>\n",
       "      <th>0</th>\n",
       "      <td>700</td>\n",
       "      <td>161.0</td>\n",
       "      <td>0.230000</td>\n",
       "      <td>RAKFKQLL_3</td>\n",
       "      <td>0.6</td>\n",
       "      <td>none</td>\n",
       "      <td>no</td>\n",
       "    </tr>\n",
       "    <tr>\n",
       "      <th>0</th>\n",
       "      <td>700</td>\n",
       "      <td>173.0</td>\n",
       "      <td>0.247143</td>\n",
       "      <td>RAKFKQLL_4</td>\n",
       "      <td>0.6</td>\n",
       "      <td>none</td>\n",
       "      <td>no</td>\n",
       "    </tr>\n",
       "    <tr>\n",
       "      <th>0</th>\n",
       "      <td>412</td>\n",
       "      <td>101.0</td>\n",
       "      <td>0.245146</td>\n",
       "      <td>RLRAEAQVK</td>\n",
       "      <td>0.6</td>\n",
       "      <td>none</td>\n",
       "      <td>no</td>\n",
       "    </tr>\n",
       "    <tr>\n",
       "      <th>0</th>\n",
       "      <td>175</td>\n",
       "      <td>129.0</td>\n",
       "      <td>0.737143</td>\n",
       "      <td>SPRWYFYYL</td>\n",
       "      <td>0.6</td>\n",
       "      <td>none</td>\n",
       "      <td>no</td>\n",
       "    </tr>\n",
       "    <tr>\n",
       "      <th>0</th>\n",
       "      <td>350</td>\n",
       "      <td>138.0</td>\n",
       "      <td>0.394286</td>\n",
       "      <td>SSLENFRAYV</td>\n",
       "      <td>0.6</td>\n",
       "      <td>none</td>\n",
       "      <td>no</td>\n",
       "    </tr>\n",
       "    <tr>\n",
       "      <th>0</th>\n",
       "      <td>133</td>\n",
       "      <td>79.0</td>\n",
       "      <td>0.593985</td>\n",
       "      <td>SSPPMFRV</td>\n",
       "      <td>0.6</td>\n",
       "      <td>none</td>\n",
       "      <td>no</td>\n",
       "    </tr>\n",
       "    <tr>\n",
       "      <th>0</th>\n",
       "      <td>177</td>\n",
       "      <td>110.0</td>\n",
       "      <td>0.621469</td>\n",
       "      <td>SSYRRPVGI</td>\n",
       "      <td>0.6</td>\n",
       "      <td>none</td>\n",
       "      <td>no</td>\n",
       "    </tr>\n",
       "    <tr>\n",
       "      <th>0</th>\n",
       "      <td>242</td>\n",
       "      <td>48.0</td>\n",
       "      <td>0.198347</td>\n",
       "      <td>TTDPSFLGRY</td>\n",
       "      <td>0.6</td>\n",
       "      <td>none</td>\n",
       "      <td>no</td>\n",
       "    </tr>\n",
       "    <tr>\n",
       "      <th>0</th>\n",
       "      <td>333</td>\n",
       "      <td>75.0</td>\n",
       "      <td>0.225225</td>\n",
       "      <td>YLQPRTFLL</td>\n",
       "      <td>0.6</td>\n",
       "      <td>none</td>\n",
       "      <td>no</td>\n",
       "    </tr>\n",
       "  </tbody>\n",
       "</table>\n",
       "</div>"
      ],
      "text/plain": [
       "   test_size  final_test  final_test_prop       epitope    L confidence vgene\n",
       "0        201       144.0         0.716418     ASNENMETM  0.6       none    no\n",
       "0        125        75.0         0.600000     ATDALMTGF  0.6       none    no\n",
       "0        700        87.0         0.124286  AVFDRKSDAK_0  0.6       none    no\n",
       "0        700        98.0         0.140000  AVFDRKSDAK_1  0.6       none    no\n",
       "0        700        82.0         0.117143  AVFDRKSDAK_2  0.6       none    no\n",
       "0        700        72.0         0.102857  AVFDRKSDAK_3  0.6       none    no\n",
       "0        700        84.0         0.120000  AVFDRKSDAK_4  0.6       none    no\n",
       "0        226       100.0         0.442478     CINGVCWTV  0.6       none    no\n",
       "0        380        76.0         0.200000    ELAGIGILTV  0.6       none    no\n",
       "0        700       110.0         0.157143   GILGFVFTL_0  0.6       none    no\n",
       "0        700       147.0         0.210000   GILGFVFTL_1  0.6       none    no\n",
       "0        700       137.0         0.195714   GILGFVFTL_2  0.6       none    no\n",
       "0        700       133.0         0.190000   GILGFVFTL_3  0.6       none    no\n",
       "0        700       135.0         0.192857   GILGFVFTL_4  0.6       none    no\n",
       "0        345       161.0         0.466667     GLCTLVAML  0.6       none    no\n",
       "0        243        97.0         0.399177     HGIRNASFI  0.6       none    no\n",
       "0        704       250.0         0.355114     IVTDFSVIK  0.6       none    no\n",
       "0        103        90.0         0.873786     KSKRTPMGF  0.6       none    no\n",
       "0        235        52.0         0.221277     LLWNGPMAV  0.6       none    no\n",
       "0        127        87.0         0.685039     LSLRNPILV  0.6       none    no\n",
       "0        124        72.0         0.580645     LTDEMIAQY  0.6       none    no\n",
       "0        357       168.0         0.470588     NLVPMVATV  0.6       none    no\n",
       "0        700       164.0         0.234286    RAKFKQLL_0  0.6       none    no\n",
       "0        700       159.0         0.227143    RAKFKQLL_1  0.6       none    no\n",
       "0        700       188.0         0.268571    RAKFKQLL_2  0.6       none    no\n",
       "0        700       161.0         0.230000    RAKFKQLL_3  0.6       none    no\n",
       "0        700       173.0         0.247143    RAKFKQLL_4  0.6       none    no\n",
       "0        412       101.0         0.245146     RLRAEAQVK  0.6       none    no\n",
       "0        175       129.0         0.737143     SPRWYFYYL  0.6       none    no\n",
       "0        350       138.0         0.394286    SSLENFRAYV  0.6       none    no\n",
       "0        133        79.0         0.593985      SSPPMFRV  0.6       none    no\n",
       "0        177       110.0         0.621469     SSYRRPVGI  0.6       none    no\n",
       "0        242        48.0         0.198347    TTDPSFLGRY  0.6       none    no\n",
       "0        333        75.0         0.225225     YLQPRTFLL  0.6       none    no"
      ]
     },
     "execution_count": 20,
     "metadata": {},
     "output_type": "execute_result"
    }
   ],
   "source": [
    "best_results"
   ]
  },
  {
   "cell_type": "code",
   "execution_count": 21,
   "metadata": {},
   "outputs": [],
   "source": [
    "all_results_nolearning = all_results_mi.loc[all_results_mi['L'] == '1.0']\n",
    "all_results_mi1 = all_results_mi.loc[all_results_mi['L'] == '0.6']"
   ]
  },
  {
   "cell_type": "code",
   "execution_count": 22,
   "metadata": {},
   "outputs": [
    {
     "data": {
      "text/html": [
       "<div>\n",
       "<style scoped>\n",
       "    .dataframe tbody tr th:only-of-type {\n",
       "        vertical-align: middle;\n",
       "    }\n",
       "\n",
       "    .dataframe tbody tr th {\n",
       "        vertical-align: top;\n",
       "    }\n",
       "\n",
       "    .dataframe thead th {\n",
       "        text-align: right;\n",
       "    }\n",
       "</style>\n",
       "<table border=\"1\" class=\"dataframe\">\n",
       "  <thead>\n",
       "    <tr style=\"text-align: right;\">\n",
       "      <th></th>\n",
       "      <th>test_size</th>\n",
       "      <th>final_test</th>\n",
       "      <th>final_test_prop</th>\n",
       "      <th>epitope</th>\n",
       "      <th>L</th>\n",
       "      <th>vgene</th>\n",
       "    </tr>\n",
       "  </thead>\n",
       "  <tbody>\n",
       "    <tr>\n",
       "      <th>9</th>\n",
       "      <td>201</td>\n",
       "      <td>41.0</td>\n",
       "      <td>0.203980</td>\n",
       "      <td>ASNENMETM</td>\n",
       "      <td>1.0</td>\n",
       "      <td>no</td>\n",
       "    </tr>\n",
       "    <tr>\n",
       "      <th>8</th>\n",
       "      <td>201</td>\n",
       "      <td>42.0</td>\n",
       "      <td>0.208955</td>\n",
       "      <td>ASNENMETM</td>\n",
       "      <td>1.0</td>\n",
       "      <td>no</td>\n",
       "    </tr>\n",
       "    <tr>\n",
       "      <th>7</th>\n",
       "      <td>201</td>\n",
       "      <td>50.0</td>\n",
       "      <td>0.248756</td>\n",
       "      <td>ASNENMETM</td>\n",
       "      <td>1.0</td>\n",
       "      <td>no</td>\n",
       "    </tr>\n",
       "    <tr>\n",
       "      <th>6</th>\n",
       "      <td>201</td>\n",
       "      <td>35.0</td>\n",
       "      <td>0.174129</td>\n",
       "      <td>ASNENMETM</td>\n",
       "      <td>1.0</td>\n",
       "      <td>no</td>\n",
       "    </tr>\n",
       "    <tr>\n",
       "      <th>5</th>\n",
       "      <td>201</td>\n",
       "      <td>43.0</td>\n",
       "      <td>0.213930</td>\n",
       "      <td>ASNENMETM</td>\n",
       "      <td>1.0</td>\n",
       "      <td>no</td>\n",
       "    </tr>\n",
       "    <tr>\n",
       "      <th>...</th>\n",
       "      <td>...</td>\n",
       "      <td>...</td>\n",
       "      <td>...</td>\n",
       "      <td>...</td>\n",
       "      <td>...</td>\n",
       "      <td>...</td>\n",
       "    </tr>\n",
       "    <tr>\n",
       "      <th>7</th>\n",
       "      <td>333</td>\n",
       "      <td>12.0</td>\n",
       "      <td>0.036036</td>\n",
       "      <td>YLQPRTFLL</td>\n",
       "      <td>1.0</td>\n",
       "      <td>no</td>\n",
       "    </tr>\n",
       "    <tr>\n",
       "      <th>1</th>\n",
       "      <td>333</td>\n",
       "      <td>17.0</td>\n",
       "      <td>0.051051</td>\n",
       "      <td>YLQPRTFLL</td>\n",
       "      <td>1.0</td>\n",
       "      <td>no</td>\n",
       "    </tr>\n",
       "    <tr>\n",
       "      <th>5</th>\n",
       "      <td>333</td>\n",
       "      <td>12.0</td>\n",
       "      <td>0.036036</td>\n",
       "      <td>YLQPRTFLL</td>\n",
       "      <td>1.0</td>\n",
       "      <td>no</td>\n",
       "    </tr>\n",
       "    <tr>\n",
       "      <th>0</th>\n",
       "      <td>333</td>\n",
       "      <td>9.0</td>\n",
       "      <td>0.027027</td>\n",
       "      <td>YLQPRTFLL</td>\n",
       "      <td>1.0</td>\n",
       "      <td>no</td>\n",
       "    </tr>\n",
       "    <tr>\n",
       "      <th>8</th>\n",
       "      <td>333</td>\n",
       "      <td>14.0</td>\n",
       "      <td>0.042042</td>\n",
       "      <td>YLQPRTFLL</td>\n",
       "      <td>1.0</td>\n",
       "      <td>no</td>\n",
       "    </tr>\n",
       "  </tbody>\n",
       "</table>\n",
       "<p>340 rows × 6 columns</p>\n",
       "</div>"
      ],
      "text/plain": [
       "    test_size  final_test  final_test_prop    epitope    L vgene\n",
       "9         201        41.0         0.203980  ASNENMETM  1.0    no\n",
       "8         201        42.0         0.208955  ASNENMETM  1.0    no\n",
       "7         201        50.0         0.248756  ASNENMETM  1.0    no\n",
       "6         201        35.0         0.174129  ASNENMETM  1.0    no\n",
       "5         201        43.0         0.213930  ASNENMETM  1.0    no\n",
       "..        ...         ...              ...        ...  ...   ...\n",
       "7         333        12.0         0.036036  YLQPRTFLL  1.0    no\n",
       "1         333        17.0         0.051051  YLQPRTFLL  1.0    no\n",
       "5         333        12.0         0.036036  YLQPRTFLL  1.0    no\n",
       "0         333         9.0         0.027027  YLQPRTFLL  1.0    no\n",
       "8         333        14.0         0.042042  YLQPRTFLL  1.0    no\n",
       "\n",
       "[340 rows x 6 columns]"
      ]
     },
     "execution_count": 22,
     "metadata": {},
     "output_type": "execute_result"
    }
   ],
   "source": [
    "all_results_nolearning"
   ]
  },
  {
   "cell_type": "code",
   "execution_count": 23,
   "metadata": {},
   "outputs": [
    {
     "data": {
      "text/html": [
       "<div>\n",
       "<style scoped>\n",
       "    .dataframe tbody tr th:only-of-type {\n",
       "        vertical-align: middle;\n",
       "    }\n",
       "\n",
       "    .dataframe tbody tr th {\n",
       "        vertical-align: top;\n",
       "    }\n",
       "\n",
       "    .dataframe thead th {\n",
       "        text-align: right;\n",
       "    }\n",
       "</style>\n",
       "<table border=\"1\" class=\"dataframe\">\n",
       "  <thead>\n",
       "    <tr style=\"text-align: right;\">\n",
       "      <th></th>\n",
       "      <th>test_size</th>\n",
       "      <th>final_test</th>\n",
       "      <th>final_test_prop</th>\n",
       "      <th>epitope</th>\n",
       "      <th>L</th>\n",
       "      <th>vgene</th>\n",
       "    </tr>\n",
       "  </thead>\n",
       "  <tbody>\n",
       "    <tr>\n",
       "      <th>0</th>\n",
       "      <td>201</td>\n",
       "      <td>81.0</td>\n",
       "      <td>0.402985</td>\n",
       "      <td>ASNENMETM</td>\n",
       "      <td>0.6</td>\n",
       "      <td>no</td>\n",
       "    </tr>\n",
       "    <tr>\n",
       "      <th>8</th>\n",
       "      <td>201</td>\n",
       "      <td>82.0</td>\n",
       "      <td>0.407960</td>\n",
       "      <td>ASNENMETM</td>\n",
       "      <td>0.6</td>\n",
       "      <td>no</td>\n",
       "    </tr>\n",
       "    <tr>\n",
       "      <th>7</th>\n",
       "      <td>201</td>\n",
       "      <td>82.0</td>\n",
       "      <td>0.407960</td>\n",
       "      <td>ASNENMETM</td>\n",
       "      <td>0.6</td>\n",
       "      <td>no</td>\n",
       "    </tr>\n",
       "    <tr>\n",
       "      <th>6</th>\n",
       "      <td>201</td>\n",
       "      <td>76.0</td>\n",
       "      <td>0.378109</td>\n",
       "      <td>ASNENMETM</td>\n",
       "      <td>0.6</td>\n",
       "      <td>no</td>\n",
       "    </tr>\n",
       "    <tr>\n",
       "      <th>5</th>\n",
       "      <td>201</td>\n",
       "      <td>79.0</td>\n",
       "      <td>0.393035</td>\n",
       "      <td>ASNENMETM</td>\n",
       "      <td>0.6</td>\n",
       "      <td>no</td>\n",
       "    </tr>\n",
       "    <tr>\n",
       "      <th>...</th>\n",
       "      <td>...</td>\n",
       "      <td>...</td>\n",
       "      <td>...</td>\n",
       "      <td>...</td>\n",
       "      <td>...</td>\n",
       "      <td>...</td>\n",
       "    </tr>\n",
       "    <tr>\n",
       "      <th>3</th>\n",
       "      <td>333</td>\n",
       "      <td>34.0</td>\n",
       "      <td>0.102102</td>\n",
       "      <td>YLQPRTFLL</td>\n",
       "      <td>0.6</td>\n",
       "      <td>no</td>\n",
       "    </tr>\n",
       "    <tr>\n",
       "      <th>2</th>\n",
       "      <td>333</td>\n",
       "      <td>13.0</td>\n",
       "      <td>0.039039</td>\n",
       "      <td>YLQPRTFLL</td>\n",
       "      <td>0.6</td>\n",
       "      <td>no</td>\n",
       "    </tr>\n",
       "    <tr>\n",
       "      <th>1</th>\n",
       "      <td>333</td>\n",
       "      <td>32.0</td>\n",
       "      <td>0.096096</td>\n",
       "      <td>YLQPRTFLL</td>\n",
       "      <td>0.6</td>\n",
       "      <td>no</td>\n",
       "    </tr>\n",
       "    <tr>\n",
       "      <th>0</th>\n",
       "      <td>333</td>\n",
       "      <td>25.0</td>\n",
       "      <td>0.075075</td>\n",
       "      <td>YLQPRTFLL</td>\n",
       "      <td>0.6</td>\n",
       "      <td>no</td>\n",
       "    </tr>\n",
       "    <tr>\n",
       "      <th>9</th>\n",
       "      <td>333</td>\n",
       "      <td>32.0</td>\n",
       "      <td>0.096096</td>\n",
       "      <td>YLQPRTFLL</td>\n",
       "      <td>0.6</td>\n",
       "      <td>no</td>\n",
       "    </tr>\n",
       "  </tbody>\n",
       "</table>\n",
       "<p>340 rows × 6 columns</p>\n",
       "</div>"
      ],
      "text/plain": [
       "    test_size  final_test  final_test_prop    epitope    L vgene\n",
       "0         201        81.0         0.402985  ASNENMETM  0.6    no\n",
       "8         201        82.0         0.407960  ASNENMETM  0.6    no\n",
       "7         201        82.0         0.407960  ASNENMETM  0.6    no\n",
       "6         201        76.0         0.378109  ASNENMETM  0.6    no\n",
       "5         201        79.0         0.393035  ASNENMETM  0.6    no\n",
       "..        ...         ...              ...        ...  ...   ...\n",
       "3         333        34.0         0.102102  YLQPRTFLL  0.6    no\n",
       "2         333        13.0         0.039039  YLQPRTFLL  0.6    no\n",
       "1         333        32.0         0.096096  YLQPRTFLL  0.6    no\n",
       "0         333        25.0         0.075075  YLQPRTFLL  0.6    no\n",
       "9         333        32.0         0.096096  YLQPRTFLL  0.6    no\n",
       "\n",
       "[340 rows x 6 columns]"
      ]
     },
     "execution_count": 23,
     "metadata": {},
     "output_type": "execute_result"
    }
   ],
   "source": [
    "all_results_mi1"
   ]
  },
  {
   "cell_type": "code",
   "execution_count": 24,
   "metadata": {},
   "outputs": [
    {
     "name": "stdout",
     "output_type": "stream",
     "text": [
      "epitope-NLVPMVATV_weights-0.6_L-0.6_method-None_prop_test-all_confidence-none_correlation-no_translation-no_ind-no_vgene-no_step-6_ones-keep_GAthresh-0.95_repairing-True_kNN-_distance_type-_GA_repeats-100_MI_repeats-10.csv.gz\n",
      "epitope-SSYRRPVGI_weights-0.6_L-0.6_method-None_prop_test-all_confidence-none_correlation-no_translation-no_ind-no_vgene-no_step-6_ones-keep_GAthresh-0.95_repairing-True_kNN-_distance_type-_GA_repeats-100_MI_repeats-10.csv.gz\n",
      "epitope-SSPPMFRV_weights-0.6_L-0.6_method-None_prop_test-all_confidence-none_correlation-no_translation-no_ind-no_vgene-no_step-6_ones-keep_GAthresh-0.95_repairing-True_kNN-_distance_type-_GA_repeats-100_MI_repeats-10.csv.gz\n",
      "epitope-HGIRNASFI_weights-0.6_L-0.6_method-None_prop_test-all_confidence-none_correlation-no_translation-no_ind-no_vgene-no_step-6_ones-keep_GAthresh-0.95_repairing-True_kNN-_distance_type-_GA_repeats-100_MI_repeats-10.csv.gz\n",
      "epitope-LSLRNPILV_weights-0.6_L-0.6_method-None_prop_test-all_confidence-none_correlation-no_translation-no_ind-no_vgene-no_step-6_ones-keep_GAthresh-0.95_repairing-True_kNN-_distance_type-_GA_repeats-100_MI_repeats-10.csv.gz\n",
      "epitope-SPRWYFYYL_weights-0.6_L-0.6_method-None_prop_test-all_confidence-none_correlation-no_translation-no_ind-no_vgene-no_step-6_ones-keep_GAthresh-0.95_repairing-True_kNN-_distance_type-_GA_repeats-100_MI_repeats-10.csv.gz\n",
      "epitope-RLRAEAQVK_weights-0.6_L-0.6_method-None_prop_test-all_confidence-none_correlation-no_translation-no_ind-no_vgene-no_step-6_ones-keep_GAthresh-0.95_repairing-True_kNN-_distance_type-_GA_repeats-100_MI_repeats-10.csv.gz\n",
      "epitope-ELAGIGILTV_weights-0.6_L-0.6_method-None_prop_test-all_confidence-none_correlation-no_translation-no_ind-no_vgene-no_step-6_ones-keep_GAthresh-0.95_repairing-True_kNN-_distance_type-_GA_repeats-100_MI_repeats-10.csv.gz\n",
      "epitope-GLCTLVAML_weights-0.6_L-0.6_method-None_prop_test-all_confidence-none_correlation-no_translation-no_ind-no_vgene-no_step-6_ones-keep_GAthresh-0.95_repairing-True_kNN-_distance_type-_GA_repeats-100_MI_repeats-10.csv.gz\n",
      "epitope-IVTDFSVIK_weights-0.6_L-0.6_method-None_prop_test-all_confidence-none_correlation-no_translation-no_ind-no_vgene-no_step-6_ones-keep_GAthresh-0.95_repairing-True_kNN-_distance_type-_GA_repeats-100_MI_repeats-10.csv.gz\n",
      "epitope-TTDPSFLGRY_weights-0.6_L-0.6_method-None_prop_test-all_confidence-none_correlation-no_translation-no_ind-no_vgene-no_step-6_ones-keep_GAthresh-0.95_repairing-True_kNN-_distance_type-_GA_repeats-100_MI_repeats-10.csv.gz\n",
      "epitope-KSKRTPMGF_weights-0.6_L-0.6_method-None_prop_test-all_confidence-none_correlation-no_translation-no_ind-no_vgene-no_step-6_ones-keep_GAthresh-0.95_repairing-True_kNN-_distance_type-_GA_repeats-100_MI_repeats-10.csv.gz\n",
      "epitope-CINGVCWTV_weights-0.6_L-0.6_method-None_prop_test-all_confidence-none_correlation-no_translation-no_ind-no_vgene-no_step-6_ones-keep_GAthresh-0.95_repairing-True_kNN-_distance_type-_GA_repeats-100_MI_repeats-10.csv.gz\n",
      "epitope-ATDALMTGF_weights-0.6_L-0.6_method-None_prop_test-all_confidence-none_correlation-no_translation-no_ind-no_vgene-no_step-6_ones-keep_GAthresh-0.95_repairing-True_kNN-_distance_type-_GA_repeats-100_MI_repeats-10.csv.gz\n",
      "epitope-SSLENFRAYV_weights-0.6_L-0.6_method-None_prop_test-all_confidence-none_correlation-no_translation-no_ind-no_vgene-no_step-6_ones-keep_GAthresh-0.95_repairing-True_kNN-_distance_type-_GA_repeats-100_MI_repeats-10.csv.gz\n",
      "epitope-YLQPRTFLL_weights-0.6_L-0.6_method-None_prop_test-all_confidence-none_correlation-no_translation-no_ind-no_vgene-no_step-6_ones-keep_GAthresh-0.95_repairing-True_kNN-_distance_type-_GA_repeats-100_MI_repeats-10.csv.gz\n",
      "epitope-LTDEMIAQY_weights-0.6_L-0.6_method-None_prop_test-all_confidence-none_correlation-no_translation-no_ind-no_vgene-no_step-6_ones-keep_GAthresh-0.95_repairing-True_kNN-_distance_type-_GA_repeats-100_MI_repeats-10.csv.gz\n",
      "epitope-ASNENMETM_weights-0.6_L-0.6_method-None_prop_test-all_confidence-none_correlation-no_translation-no_ind-no_vgene-no_step-6_ones-keep_GAthresh-0.95_repairing-True_kNN-_distance_type-_GA_repeats-100_MI_repeats-10.csv.gz\n",
      "epitope-LLWNGPMAV_weights-0.6_L-0.6_method-None_prop_test-all_confidence-none_correlation-no_translation-no_ind-no_vgene-no_step-6_ones-keep_GAthresh-0.95_repairing-True_kNN-_distance_type-_GA_repeats-100_MI_repeats-10.csv.gz\n"
     ]
    }
   ],
   "source": [
    "allresults_gami = []\n",
    "\n",
    "for f in os.listdir(ff5):\n",
    "    if ('.csv' in f) & ('vgene-no' in f):\n",
    "        print(f)\n",
    "        f1 = f.replace('small_ind', 'smallInd')\n",
    "        f1 = f1.replace('prop_test', 'propTest')\n",
    "        f1 = f1.replace('GA_repeats', 'GArepeats')\n",
    "        f1 = f1.replace('MI_repeats', 'MIrepeats')\n",
    "        f1 = f1.replace('distance_type', 'disttype')\n",
    "        properties = {x.split('-')[0]:x.split('-')[1] for x in f1.split('_') if '.csv' not in x}\n",
    "        results, N = hf.load_df_TPR(ff5 + f)\n",
    "        results = pd.DataFrame(np.array(np.array([x for x in results])))\n",
    "        its = results.shape[1]-1\n",
    "        results['test_size'] = N\n",
    "        results['final_test'] = results[its]\n",
    "        results['final_test_prop'] = results[its] / N\n",
    "        results['epitope'] = properties['epitope']\n",
    "        results['L'] = properties['L']\n",
    "        results['confidence'] = properties['confidence']\n",
    "        results['vgene'] = properties['vgene']\n",
    "        allresults_gami.append(results[['test_size','final_test','final_test_prop','epitope','L', 'confidence','vgene']])"
   ]
  },
  {
   "cell_type": "code",
   "execution_count": 25,
   "metadata": {},
   "outputs": [
    {
     "name": "stdout",
     "output_type": "stream",
     "text": [
      "epitope-RAKFKQLL_weights-0.6_L-0.6_method-None_prop_test-all_confidence-none_correlation-no_translation-no_ind-no_vgene-no_step-6_ones-keep_GAthresh-0.95_repairing-True_kNN-_distance_type-_GA_repeats-100_MI_repeats-10.csv.gz\n",
      "epitope-GILGFVFTL_weights-0.6_L-0.6_method-None_prop_test-all_confidence-none_correlation-no_translation-no_ind-no_vgene-no_step-6_ones-keep_GAthresh-0.95_repairing-True_kNN-_distance_type-_GA_repeats-100_MI_repeats-10.csv.gz\n",
      "epitope-AVFDRKSDAK_weights-0.6_L-0.6_method-None_prop_test-all_confidence-none_correlation-no_translation-no_ind-no_vgene-no_step-6_ones-keep_GAthresh-0.95_repairing-True_kNN-_distance_type-_GA_repeats-100_MI_repeats-10.csv.gz\n",
      "epitope-RAKFKQLL_weights-0.6_L-0.6_method-None_prop_test-all_confidence-none_correlation-no_translation-no_ind-no_vgene-no_step-6_ones-keep_GAthresh-0.95_repairing-True_kNN-_distance_type-_GA_repeats-100_MI_repeats-10.csv.gz\n",
      "epitope-GILGFVFTL_weights-0.6_L-0.6_method-None_prop_test-all_confidence-none_correlation-no_translation-no_ind-no_vgene-no_step-6_ones-keep_GAthresh-0.95_repairing-True_kNN-_distance_type-_GA_repeats-100_MI_repeats-10.csv.gz\n",
      "epitope-AVFDRKSDAK_weights-0.6_L-0.6_method-None_prop_test-all_confidence-none_correlation-no_translation-no_ind-no_vgene-no_step-6_ones-keep_GAthresh-0.95_repairing-True_kNN-_distance_type-_GA_repeats-100_MI_repeats-10.csv.gz\n",
      "epitope-RAKFKQLL_weights-0.6_L-0.6_method-None_prop_test-all_confidence-none_correlation-no_translation-no_ind-no_vgene-no_step-6_ones-keep_GAthresh-0.95_repairing-True_kNN-_distance_type-_GA_repeats-100_MI_repeats-10.csv.gz\n",
      "epitope-GILGFVFTL_weights-0.6_L-0.6_method-None_prop_test-all_confidence-none_correlation-no_translation-no_ind-no_vgene-no_step-6_ones-keep_GAthresh-0.95_repairing-True_kNN-_distance_type-_GA_repeats-100_MI_repeats-10.csv.gz\n",
      "epitope-AVFDRKSDAK_weights-0.6_L-0.6_method-None_prop_test-all_confidence-none_correlation-no_translation-no_ind-no_vgene-no_step-6_ones-keep_GAthresh-0.95_repairing-True_kNN-_distance_type-_GA_repeats-100_MI_repeats-10.csv.gz\n",
      "epitope-RAKFKQLL_weights-0.6_L-0.6_method-None_prop_test-all_confidence-none_correlation-no_translation-no_ind-no_vgene-no_step-6_ones-keep_GAthresh-0.95_repairing-True_kNN-_distance_type-_GA_repeats-100_MI_repeats-10.csv.gz\n",
      "epitope-GILGFVFTL_weights-0.6_L-0.6_method-None_prop_test-all_confidence-none_correlation-no_translation-no_ind-no_vgene-no_step-6_ones-keep_GAthresh-0.95_repairing-True_kNN-_distance_type-_GA_repeats-100_MI_repeats-10.csv.gz\n",
      "epitope-AVFDRKSDAK_weights-0.6_L-0.6_method-None_prop_test-all_confidence-none_correlation-no_translation-no_ind-no_vgene-no_step-6_ones-keep_GAthresh-0.95_repairing-True_kNN-_distance_type-_GA_repeats-100_MI_repeats-10.csv.gz\n",
      "epitope-RAKFKQLL_weights-0.6_L-0.6_method-None_prop_test-all_confidence-none_correlation-no_translation-no_ind-no_vgene-no_step-6_ones-keep_GAthresh-0.95_repairing-True_kNN-_distance_type-_GA_repeats-100_MI_repeats-10.csv.gz\n",
      "epitope-GILGFVFTL_weights-0.6_L-0.6_method-None_prop_test-all_confidence-none_correlation-no_translation-no_ind-no_vgene-no_step-6_ones-keep_GAthresh-0.95_repairing-True_kNN-_distance_type-_GA_repeats-100_MI_repeats-10.csv.gz\n",
      "epitope-AVFDRKSDAK_weights-0.6_L-0.6_method-None_prop_test-all_confidence-none_correlation-no_translation-no_ind-no_vgene-no_step-6_ones-keep_GAthresh-0.95_repairing-True_kNN-_distance_type-_GA_repeats-100_MI_repeats-10.csv.gz\n"
     ]
    }
   ],
   "source": [
    "for ff60 in os.listdir(ff6):\n",
    "    if 'txt' not in ff60:\n",
    "        for f in os.listdir(ff6 + ff60):\n",
    "            if ('.csv' in f) & ('vgene-no' in f) & ('KLGGALQAK' not in f):\n",
    "                print(f)\n",
    "                f1 = f.replace('small_ind', 'smallInd')\n",
    "                f1 = f1.replace('prop_test', 'propTest')\n",
    "                f1 = f1.replace('GA_repeats', 'GArepeats')\n",
    "                f1 = f1.replace('MI_repeats', 'MIrepeats')\n",
    "                f1 = f1.replace('distance_type', 'disttype')\n",
    "                properties = {x.split('-')[0]:x.split('-')[1] for x in f1.split('_') if '.csv' not in x}\n",
    "                results, N = hf.load_df_TPR(ff6 + ff60 + '/' + f)\n",
    "                results = pd.DataFrame(np.array(np.array([x for x in results])))\n",
    "                its = results.shape[1]-1\n",
    "                results['test_size'] = N\n",
    "                results['final_test'] = results[its]\n",
    "                results['final_test_prop'] = results[its] / N\n",
    "                results['epitope'] = properties['epitope'] + '_' + str(ff60)\n",
    "                results['L'] = properties['L']\n",
    "                results['confidence'] = properties['confidence']\n",
    "                results['vgene'] = properties['vgene']\n",
    "                allresults_gami.append(results[['test_size','final_test','final_test_prop','epitope','L', 'confidence','vgene']])"
   ]
  },
  {
   "cell_type": "code",
   "execution_count": 26,
   "metadata": {},
   "outputs": [],
   "source": [
    "gami_results = pd.concat(allresults_gami)\n",
    "gami_results = gami_results.loc[(gami_results['confidence'] == 'none') & (gami_results['L'] == '0.6')].sort_values(by='epitope')"
   ]
  },
  {
   "cell_type": "code",
   "execution_count": 27,
   "metadata": {},
   "outputs": [],
   "source": [
    "gami_results.to_csv('GA+MI-IPA_results_TPR.csv')"
   ]
  },
  {
   "cell_type": "code",
   "execution_count": 28,
   "metadata": {},
   "outputs": [],
   "source": [
    "all_results_nolearning = all_results_nolearning.rename(columns={'final_test_prop':'no learning'})\n",
    "all_results_mi1 = all_results_mi1.rename(columns={'final_test_prop':'MI-IPA'})\n",
    "best_results = best_results.rename(columns={'final_test_prop':'theoretical best'})\n",
    "gami_results = gami_results.rename(columns={'final_test_prop':'GA+MI-IPA'})"
   ]
  },
  {
   "cell_type": "code",
   "execution_count": 29,
   "metadata": {},
   "outputs": [],
   "source": [
    "all_results_tpr_ga = all_results_tpr_ga.rename(columns={'prop_correct':'GA'})"
   ]
  },
  {
   "cell_type": "code",
   "execution_count": 30,
   "metadata": {},
   "outputs": [
    {
     "name": "stdout",
     "output_type": "stream",
     "text": [
      "           epitope vgene  no learning    MI-IPA  theoretical best  GA+MI-IPA  \\\n",
      "0        ASNENMETM    no     0.203980  0.402985          0.716418    0.39801   \n",
      "1        ASNENMETM    no     0.203980  0.402985          0.716418    0.39801   \n",
      "2        ASNENMETM    no     0.203980  0.402985          0.716418    0.39801   \n",
      "3        ASNENMETM    no     0.203980  0.402985          0.716418    0.39801   \n",
      "4        ASNENMETM    no     0.203980  0.402985          0.716418    0.39801   \n",
      "...            ...   ...          ...       ...               ...        ...   \n",
      "3388746  YLQPRTFLL    no     0.027027  0.075075          0.225225    0.09009   \n",
      "3388748  YLQPRTFLL    no     0.027027  0.075075          0.225225    0.09009   \n",
      "3388788  YLQPRTFLL    no     0.027027  0.075075          0.225225    0.09009   \n",
      "3388791  YLQPRTFLL    no     0.027027  0.075075          0.225225    0.09009   \n",
      "3388797  YLQPRTFLL    no     0.027027  0.075075          0.225225    0.09009   \n",
      "\n",
      "               GA  \n",
      "0        0.422886  \n",
      "1        0.482587  \n",
      "2        0.452736  \n",
      "3        0.333333  \n",
      "4        0.338308  \n",
      "...           ...  \n",
      "3388746  0.096096  \n",
      "3388748  0.051051  \n",
      "3388788  0.108108  \n",
      "3388791  0.105105  \n",
      "3388797  0.054054  \n",
      "\n",
      "[239699 rows x 7 columns]\n"
     ]
    }
   ],
   "source": [
    "df = pd.merge(all_results_nolearning[['epitope','vgene','no learning']],all_results_mi1[['epitope','vgene','MI-IPA']], how='outer')\n",
    "# print(df)\n",
    "df = pd.merge(df,best_results[['epitope','vgene','theoretical best']], how='outer')\n",
    "df = pd.merge(df,gami_results[['epitope','vgene','GA+MI-IPA']], how='outer')\n",
    "df = pd.merge(df, all_results_tpr_ga[['epitope','GA']], how='inner').drop_duplicates()\n",
    "print(df)\n"
   ]
  },
  {
   "cell_type": "code",
   "execution_count": 31,
   "metadata": {},
   "outputs": [
    {
     "name": "stdout",
     "output_type": "stream",
     "text": [
      "ASNENMETM\n",
      "ATDALMTGF\n",
      "AVFDRKSDAK_0\n",
      "AVFDRKSDAK_1\n",
      "AVFDRKSDAK_2\n",
      "AVFDRKSDAK_3\n",
      "AVFDRKSDAK_4\n",
      "CINGVCWTV\n",
      "ELAGIGILTV\n",
      "GILGFVFTL_0\n",
      "GILGFVFTL_1\n",
      "GILGFVFTL_2\n",
      "GILGFVFTL_3\n",
      "GILGFVFTL_4\n",
      "GLCTLVAML\n",
      "HGIRNASFI\n",
      "IVTDFSVIK\n",
      "KSKRTPMGF\n",
      "LLWNGPMAV\n",
      "LSLRNPILV\n",
      "LTDEMIAQY\n",
      "NLVPMVATV\n",
      "RAKFKQLL_0\n",
      "RAKFKQLL_1\n",
      "RAKFKQLL_2\n",
      "RAKFKQLL_3\n",
      "RAKFKQLL_4\n",
      "RLRAEAQVK\n",
      "SPRWYFYYL\n",
      "SSLENFRAYV\n",
      "SSPPMFRV\n",
      "SSYRRPVGI\n",
      "TTDPSFLGRY\n",
      "YLQPRTFLL\n"
     ]
    },
    {
     "name": "stderr",
     "output_type": "stream",
     "text": [
      "/tmp/ipykernel_176188/3150268397.py:53: RuntimeWarning: Precision loss occurred in moment calculation due to catastrophic cancellation. This occurs when the data are nearly identical. Results may be unreliable.\n",
      "  t,pval = ttest_ind(gami['GA+MI-IPA'], bb['no learning'], alternative='greater')\n"
     ]
    },
    {
     "data": {
      "image/png": "[encoded data removed]",
      "text/plain": [
       "<Figure size 1500x700 with 1 Axes>"
      ]
     },
     "metadata": {},
     "output_type": "display_data"
    }
   ],
   "source": [
    "f,ax=plt.subplots(figsize=(15,7), sharex=True)\n",
    "sns.barplot(all_results_tpr_ga.sort_values(by='epitope'), x='epitope', y='GA', width=0.6,\n",
    "             errorbar='sd', ax=ax, edgecolor = 'darkorange', errcolor='darkorange', \n",
    "             linewidth=2,\n",
    "             label='GA', color='navajowhite')\n",
    "sns.barplot(all_results_mi1.sort_values(by='epitope'), x='epitope', y='MI-IPA', width=0.6, linewidth=2,\n",
    "             errorbar='sd', ax=ax, edgecolor = 'darkturquoise', facecolor='none', \n",
    "             errcolor = 'darkturquoise',\n",
    "             hatch='xxxxx', label='MI-IPA')\n",
    "sns.barplot(data=all_results_nolearning.sort_values(by='epitope'), x='epitope', y='no learning', width=0.6,\n",
    "             errorbar='sd', ax=ax, edgecolor = 'black', facecolor='none', hatch='....', label='chance expectation')\n",
    "sns.lineplot(data=best_results.sort_values(by='epitope'), x='epitope',y='theoretical best', color='k',\n",
    "             ax=ax, linestyle = '', marker = 'X', markersize=10, errorbar=None, label = 'theoretical best')\n",
    "sns.lineplot(data=gami_results.sort_values(by='epitope'), x='epitope', y='GA+MI-IPA', color='violet', \n",
    "             ax=ax, linestyle = '', marker = 'o', markersize=10, mew=1, mec='purple',\n",
    "             errorbar='sd', err_style='bars', err_kws={'ecolor':'purple', 'capsize':5, 'linewidth':2},\n",
    "             label = 'GA+MI-IPA')\n",
    "\n",
    "## code below plots modes\n",
    "# sns.lineplot(data=modes_ga_c.sort_values(by='epitope'), x='epitope',y='prop', color='white', mec='darkorange',\n",
    "#              ax=ax, linestyle = '', marker = 'o', markersize=10, errorbar=None, label = 'GA mode')\n",
    "# sns.lineplot(data=modes_ga_c.sort_values(by='epitope'), x='epitope',y='prop', color='darkorange',mec='darkorange',\n",
    "#              ax=ax, linestyle = '', marker = 'o', markersize=3, errorbar=None)\n",
    "# sns.lineplot(data=grouped_mode_mi_c.loc[grouped_mode_mi_c['L'] == '0.6'].sort_values(by='epitope'), \n",
    "#              x='epitope',y='prop', color='white', mec='darkturquoise',\n",
    "#              ax=ax, linestyle = '', marker = 's', markersize=10, errorbar=None, label = 'MI-IPA mode')\n",
    "# sns.lineplot(data=grouped_mode_mi_c.loc[grouped_mode_mi_c['L'] == '0.6'].sort_values(by='epitope'), \n",
    "#              x='epitope',y='prop', color='darkturquoise', mec='darkturquoise',\n",
    "#              ax=ax, linestyle = '', marker = 's', markersize=3, errorbar=None)\n",
    "# sns.lineplot(data=grouped_mode_mi_c.loc[grouped_mode_mi_c['L'] == '1.0'].sort_values(by='epitope'), \n",
    "#              x='epitope',y='prop', color='white', mec='k',\n",
    "#              ax=ax, linestyle = '', marker = '^', markersize=10, errorbar=None, label = 'MI-IPA mode')\n",
    "# sns.lineplot(data=grouped_mode_mi_c.loc[grouped_mode_mi_c['L'] == '1.0'].sort_values(by='epitope'), \n",
    "#              x='epitope',y='prop', color='k', mec='k',\n",
    "#              ax=ax, linestyle = '', marker = '^', markersize=3, errorbar=None)\n",
    "\n",
    "ax.set_xticklabels(all_results_tpr_ga.sort_values(by='epitope')['epitope'].unique(), fontdict={'size':14}, rotation=90)\n",
    "ax.set_xlabel('')\n",
    "ax.set_ylabel('Precision', fontdict={'size':14})\n",
    "h,l=ax.get_legend_handles_labels()\n",
    "for j,ep in enumerate(all_results_tpr_ga.sort_values(by='epitope')['epitope'].unique()):\n",
    "    print(ep)\n",
    "    bb = all_results_nolearning.loc[all_results_nolearning['epitope'] == ep]\n",
    "    mi = all_results_mi1.loc[all_results_mi1['epitope'] == ep]\n",
    "    ga = all_results_tpr_ga.loc[all_results_tpr_ga['epitope'] == ep]\n",
    "    gami = gami_results.loc[gami_results['epitope'] == ep]\n",
    "    t,pval = ttest_ind(mi['MI-IPA'], bb['no learning'], alternative='greater')\n",
    "    p = '***' if pval<0.001 else '**' if pval<0.01 else '*' if pval<0.05 else ''\n",
    "    ax.text(j, 0.94, p, fontdict={'size':16, 'color':'darkturquoise'}, ha='center')\n",
    "    t,pval = ttest_ind(ga['GA'], bb['no learning'], alternative='greater')\n",
    "    p = '***' if pval<0.001 else '**' if pval<0.01 else '*' if pval<0.05 else ''\n",
    "    ax.text(j, 0.91, p, fontdict={'size':16, 'color':'darkorange'}, ha='center')\n",
    "    t,pval = ttest_ind(gami['GA+MI-IPA'], bb['no learning'], alternative='greater')\n",
    "    p = '***' if pval<0.001 else '**' if pval<0.01 else '*' if pval<0.05 else ''\n",
    "    ax.text(j, 0.88, p, fontdict={'size':16, 'color':'purple'}, ha='center')\n",
    "\n",
    "ax.set_ylim(0,0.98)\n",
    "ax.set_xlim(-0.6,len(all_results_tpr_ga['epitope'].unique())-0.4)\n",
    "ax.grid(axis='x', ls=':')\n",
    "plt.legend(h,l,fontsize=14, ncol=5, bbox_to_anchor=[0.5,1], loc='lower center')\n",
    "plt.tight_layout()\n",
    "plt.savefig('figures/all_epitopes_TPR_with_MI_GA_noconf_lev20.png',\n",
    "                    bbox_inches='tight')\n",
    "plt.show()"
   ]
  },
  {
   "cell_type": "code",
   "execution_count": 32,
   "metadata": {},
   "outputs": [],
   "source": [
    "# fig, ax = plt.subplots(figsize=(10,5))\n",
    "# sns.barplot(all_results_tpr.sort_values(by='epitope'), x='epitope', y='prop_correct', width=0.6,\n",
    "#              errorbar=('ci',95), ax=ax, edgecolor = 'black')\n",
    "# sns.barplot(all_results_recall.sort_values(by='epitope'), x='epitope', y='prop_correct', width=0.6,\n",
    "#              errorbar=('ci',95), ax=ax, edgecolor = 'black', hatch='////', fill=False)\n",
    "# # ax[0].get_legend().remove()\n",
    "# # ax[1].set_ylim(ax[0].get_ylim())\n",
    "# ax.set_xticklabels(all_results_tpr.sort_values(by='epitope')['epitope'].unique(), fontdict={'size':14}, rotation=90)\n",
    "# # ax[1].legend(bbox_to_anchor=[1.05,1], loc='upper left')\n",
    "# # ax[0].set_ylabel('TPR', fontdict={'size':14})\n",
    "# # ax[1].set_ylabel('recall',lluihiljjjththkhgmli   ,v\n",
    "\n",
    "\n",
    "# # ax.set_xlabel()\n",
    "# # ax[1].set_xlabel(r'$k$', fontdict={'size':14})\n",
    "# plt.tight_layout()"
   ]
  }
 ],
 "metadata": {
  "kernelspec": {
   "display_name": "MutualInformation",
   "language": "python",
   "name": "python3"
  },
  "language_info": {
   "codemirror_mode": {
    "name": "ipython",
    "version": 3
   },
   "file_extension": ".py",
   "mimetype": "text/x-python",
   "name": "python",
   "nbconvert_exporter": "python",
   "pygments_lexer": "ipython3",
   "version": "3.11.0"
  },
  "orig_nbformat": 4
 },
 "nbformat": 4,
 "nbformat_minor": 2
}
